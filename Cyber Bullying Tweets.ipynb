{
 "cells": [
  {
   "cell_type": "code",
   "execution_count": 1,
   "id": "7bf223bc",
   "metadata": {},
   "outputs": [
    {
     "name": "stderr",
     "output_type": "stream",
     "text": [
      "[nltk_data] Downloading package stopwords to\n",
      "[nltk_data]     C:\\Users\\aswat\\AppData\\Roaming\\nltk_data...\n",
      "[nltk_data]   Package stopwords is already up-to-date!\n",
      "[nltk_data] Downloading package punkt to\n",
      "[nltk_data]     C:\\Users\\aswat\\AppData\\Roaming\\nltk_data...\n",
      "[nltk_data]   Package punkt is already up-to-date!\n",
      "[nltk_data] Downloading package wordnet to\n",
      "[nltk_data]     C:\\Users\\aswat\\AppData\\Roaming\\nltk_data...\n",
      "[nltk_data]   Package wordnet is already up-to-date!\n"
     ]
    }
   ],
   "source": [
    "#import all the necessary libraries\n",
    "\n",
    "import pandas as pd\n",
    "import numpy as np\n",
    "import matplotlib.pyplot as plt\n",
    "import seaborn as sns\n",
    "\n",
    "\n",
    "import emoji\n",
    "import re\n",
    "import demoji\n",
    "\n",
    "import nltk\n",
    "from nltk.corpus import stopwords\n",
    "nltk.download('stopwords')\n",
    "from nltk.tokenize import word_tokenize\n",
    "stop_words = set(stopwords.words('english'))\n",
    "nltk.download('punkt')\n",
    "import string\n",
    "\n",
    "from langdetect import detect\n",
    "from langdetect.lang_detect_exception import LangDetectException\n",
    "\n",
    "import contractions\n",
    "\n",
    "from nltk.stem import WordNetLemmatizer\n",
    "\n",
    "# Download the WordNet dataset\n",
    "nltk.download('wordnet')\n",
    "\n",
    "# Initialize the lemmatizer\n",
    "lemmatizer = WordNetLemmatizer()\n",
    "\n",
    "#train-test split data\n",
    "from sklearn import preprocessing\n",
    "from sklearn.model_selection import train_test_split\n",
    "\n",
    "#oversampling train data\n",
    "from imblearn.over_sampling import RandomOverSampler\n",
    "\n",
    "# Set seed for reproducibility\n",
    "import random\n",
    "import torch\n",
    "seed_value = 2042\n",
    "random.seed(seed_value)\n",
    "np.random.seed(seed_value)\n",
    "torch.manual_seed(seed_value)\n",
    "torch.cuda.manual_seed_all(seed_value)\n",
    "\n",
    "# Naive Bayes\n",
    "from sklearn.feature_extraction.text import CountVectorizer\n",
    "from sklearn.feature_extraction.text import TfidfTransformer\n",
    "from sklearn.naive_bayes import MultinomialNB\n",
    "\n",
    "from sklearn.metrics import classification_report, confusion_matrix\n",
    "\n",
    "\n",
    "\n",
    "# Tokenization for LSTM\n",
    "from nltk.tokenize import word_tokenize\n",
    "from collections import Counter\n",
    "from gensim.models import Word2Vec\n",
    "\n",
    "# PyTorch LSTM\n",
    "import torch\n",
    "import torch.nn as nn\n",
    "import torch.nn.functional as F\n",
    "import torch.optim as optim\n",
    "from torch.utils.data import TensorDataset, DataLoader, RandomSampler, SequentialSampler"
   ]
  },
  {
   "cell_type": "code",
   "execution_count": 2,
   "id": "90c44462",
   "metadata": {},
   "outputs": [],
   "source": [
    "df = pd.read_csv(\"cyberbullying_tweets.csv\")"
   ]
  },
  {
   "cell_type": "code",
   "execution_count": 3,
   "id": "c0456f4b",
   "metadata": {},
   "outputs": [
    {
     "data": {
      "text/html": [
       "<div>\n",
       "<style scoped>\n",
       "    .dataframe tbody tr th:only-of-type {\n",
       "        vertical-align: middle;\n",
       "    }\n",
       "\n",
       "    .dataframe tbody tr th {\n",
       "        vertical-align: top;\n",
       "    }\n",
       "\n",
       "    .dataframe thead th {\n",
       "        text-align: right;\n",
       "    }\n",
       "</style>\n",
       "<table border=\"1\" class=\"dataframe\">\n",
       "  <thead>\n",
       "    <tr style=\"text-align: right;\">\n",
       "      <th></th>\n",
       "      <th>tweet_text</th>\n",
       "      <th>cyberbullying_type</th>\n",
       "    </tr>\n",
       "  </thead>\n",
       "  <tbody>\n",
       "    <tr>\n",
       "      <th>0</th>\n",
       "      <td>In other words #katandandre, your food was cra...</td>\n",
       "      <td>not_cyberbullying</td>\n",
       "    </tr>\n",
       "    <tr>\n",
       "      <th>1</th>\n",
       "      <td>Why is #aussietv so white? #MKR #theblock #ImA...</td>\n",
       "      <td>not_cyberbullying</td>\n",
       "    </tr>\n",
       "    <tr>\n",
       "      <th>2</th>\n",
       "      <td>@XochitlSuckkks a classy whore? Or more red ve...</td>\n",
       "      <td>not_cyberbullying</td>\n",
       "    </tr>\n",
       "    <tr>\n",
       "      <th>3</th>\n",
       "      <td>@Jason_Gio meh. :P  thanks for the heads up, b...</td>\n",
       "      <td>not_cyberbullying</td>\n",
       "    </tr>\n",
       "    <tr>\n",
       "      <th>4</th>\n",
       "      <td>@RudhoeEnglish This is an ISIS account pretend...</td>\n",
       "      <td>not_cyberbullying</td>\n",
       "    </tr>\n",
       "  </tbody>\n",
       "</table>\n",
       "</div>"
      ],
      "text/plain": [
       "                                          tweet_text cyberbullying_type\n",
       "0  In other words #katandandre, your food was cra...  not_cyberbullying\n",
       "1  Why is #aussietv so white? #MKR #theblock #ImA...  not_cyberbullying\n",
       "2  @XochitlSuckkks a classy whore? Or more red ve...  not_cyberbullying\n",
       "3  @Jason_Gio meh. :P  thanks for the heads up, b...  not_cyberbullying\n",
       "4  @RudhoeEnglish This is an ISIS account pretend...  not_cyberbullying"
      ]
     },
     "execution_count": 3,
     "metadata": {},
     "output_type": "execute_result"
    }
   ],
   "source": [
    "df.head()"
   ]
  },
  {
   "cell_type": "code",
   "execution_count": 4,
   "id": "370bc92d",
   "metadata": {},
   "outputs": [
    {
     "name": "stdout",
     "output_type": "stream",
     "text": [
      "<class 'pandas.core.frame.DataFrame'>\n",
      "RangeIndex: 47692 entries, 0 to 47691\n",
      "Data columns (total 2 columns):\n",
      " #   Column              Non-Null Count  Dtype \n",
      "---  ------              --------------  ----- \n",
      " 0   tweet_text          47692 non-null  object\n",
      " 1   cyberbullying_type  47692 non-null  object\n",
      "dtypes: object(2)\n",
      "memory usage: 745.3+ KB\n"
     ]
    }
   ],
   "source": [
    "df.info()"
   ]
  },
  {
   "cell_type": "code",
   "execution_count": 5,
   "id": "f269b974",
   "metadata": {},
   "outputs": [
    {
     "data": {
      "text/plain": [
       "(47692, 2)"
      ]
     },
     "execution_count": 5,
     "metadata": {},
     "output_type": "execute_result"
    }
   ],
   "source": [
    "df.shape"
   ]
  },
  {
   "cell_type": "markdown",
   "id": "40229ae0",
   "metadata": {},
   "source": [
    "No null occurences, lets check for duplicate instances"
   ]
  },
  {
   "cell_type": "code",
   "execution_count": 6,
   "id": "2364ebe5",
   "metadata": {},
   "outputs": [
    {
     "data": {
      "text/plain": [
       "36"
      ]
     },
     "execution_count": 6,
     "metadata": {},
     "output_type": "execute_result"
    }
   ],
   "source": [
    "df.duplicated().sum()"
   ]
  },
  {
   "cell_type": "markdown",
   "id": "d0af400f",
   "metadata": {},
   "source": [
    "There are 36 duplicates which has to be removed"
   ]
  },
  {
   "cell_type": "code",
   "execution_count": 7,
   "id": "9a4f2366",
   "metadata": {},
   "outputs": [],
   "source": [
    "df = df[~df.duplicated()]"
   ]
  },
  {
   "cell_type": "code",
   "execution_count": 8,
   "id": "f19f45d7",
   "metadata": {},
   "outputs": [
    {
     "data": {
      "text/plain": [
       "(47656, 2)"
      ]
     },
     "execution_count": 8,
     "metadata": {},
     "output_type": "execute_result"
    }
   ],
   "source": [
    "df.shape"
   ]
  },
  {
   "cell_type": "code",
   "execution_count": 9,
   "id": "ec8f6d43",
   "metadata": {},
   "outputs": [
    {
     "name": "stdout",
     "output_type": "stream",
     "text": [
      "<class 'pandas.core.frame.DataFrame'>\n",
      "Index: 47656 entries, 0 to 47691\n",
      "Data columns (total 2 columns):\n",
      " #   Column              Non-Null Count  Dtype \n",
      "---  ------              --------------  ----- \n",
      " 0   tweet_text          47656 non-null  object\n",
      " 1   cyberbullying_type  47656 non-null  object\n",
      "dtypes: object(2)\n",
      "memory usage: 1.1+ MB\n"
     ]
    }
   ],
   "source": [
    "df.info()"
   ]
  },
  {
   "cell_type": "markdown",
   "id": "57e70191",
   "metadata": {},
   "source": [
    "Now let's the classes are balanced or not?"
   ]
  },
  {
   "cell_type": "code",
   "execution_count": 10,
   "id": "1205699c",
   "metadata": {
    "scrolled": true
   },
   "outputs": [
    {
     "data": {
      "text/plain": [
       "cyberbullying_type\n",
       "religion               7997\n",
       "age                    7992\n",
       "ethnicity              7959\n",
       "gender                 7948\n",
       "not_cyberbullying      7937\n",
       "other_cyberbullying    7823\n",
       "Name: count, dtype: int64"
      ]
     },
     "execution_count": 10,
     "metadata": {},
     "output_type": "execute_result"
    }
   ],
   "source": [
    "df.cyberbullying_type.value_counts()"
   ]
  },
  {
   "cell_type": "markdown",
   "id": "dec178ba",
   "metadata": {},
   "source": [
    "The class looks balanced"
   ]
  },
  {
   "cell_type": "markdown",
   "id": "f1219751",
   "metadata": {},
   "source": [
    "To clean up the tweet text by eliminating emoji, special characters etc, let's define functions"
   ]
  },
  {
   "cell_type": "code",
   "execution_count": 11,
   "id": "725f1660",
   "metadata": {},
   "outputs": [],
   "source": [
    "#remove emoji\n",
    "def remove_emoji(text):\n",
    "    result_text = demoji.replace(text, '')\n",
    "    return result_text"
   ]
  },
  {
   "cell_type": "code",
   "execution_count": 12,
   "id": "e10cc6e4",
   "metadata": {},
   "outputs": [
    {
     "name": "stdout",
     "output_type": "stream",
     "text": [
      "Hello!  How are you today? \n"
     ]
    }
   ],
   "source": [
    "print(remove_emoji(\"Hello! 😊 How are you today? 🌟\"))"
   ]
  },
  {
   "cell_type": "markdown",
   "id": "64ec4b1f",
   "metadata": {},
   "source": [
    "Lets remove the links, mentions, newline characters, punctations, non-ASCII characters etc from tweet text"
   ]
  },
  {
   "cell_type": "code",
   "execution_count": 13,
   "id": "3f19f28f",
   "metadata": {},
   "outputs": [],
   "source": [
    "def eda_text(text):\n",
    "    \n",
    "    # Remove links (URLs)\n",
    "    text = re.sub(r\"http\\S+|www\\S+|https\\S+\", \"\", text, flags=re.MULTILINE)\n",
    "\n",
    "    # Remove mentions (@username)\n",
    "    text = re.sub(r\"@[^\\s]+\", \"\", text)\n",
    "\n",
    "    # Remove new line characters\n",
    "    text = re.sub('\\n|\\r', '',text.lower())\n",
    "\n",
    "    # Remove punctuations\n",
    "    translator = str.maketrans(\"\", \"\", string.punctuation)\n",
    "    text = text.translate(translator)\n",
    "    \n",
    "    #remove non-ASCII characters\n",
    "    text = re.sub(r'[^\\x00-\\x7f]', '', text) \n",
    "    \n",
    "    # Tokenize the text and remove stopwords\n",
    "    words = word_tokenize(text)\n",
    "    words = [word for word in words if word.lower() not in stop_words]\n",
    "\n",
    "    # Join the processed words back into a string\n",
    "    processed_text = ' '.join(words)\n",
    "\n",
    "    return processed_text"
   ]
  },
  {
   "cell_type": "markdown",
   "id": "2db673ec",
   "metadata": {},
   "source": [
    "remove hashtags"
   ]
  },
  {
   "cell_type": "code",
   "execution_count": 14,
   "id": "f3660be2",
   "metadata": {},
   "outputs": [],
   "source": [
    "def remove_hashtags(text):\n",
    "    # Remove hashtags at the end of the sentence\n",
    "    new_tweet = re.sub(r'(\\s+#[\\w-]+)+\\s*$', '', text).strip()\n",
    "    \n",
    "    # Remove the # symbol from hashtags in the middle of the sentence\n",
    "    new_tweet = re.sub(r'#([\\w-]+)', r'\\1', new_tweet).strip()\n",
    "    \n",
    "    return new_tweet"
   ]
  },
  {
   "cell_type": "code",
   "execution_count": 15,
   "id": "9a554ca7",
   "metadata": {},
   "outputs": [],
   "source": [
    "#remove special characters such as '&' and '$'\n",
    "def filter_special_characters(text, special_characters=['&', '$']):\n",
    "    translation_table = str.maketrans('', '', ''.join(special_characters))\n",
    "    filtered_text = text.translate(translation_table)\n",
    "    return filtered_text\n",
    "\n",
    "\n",
    "\n"
   ]
  },
  {
   "cell_type": "code",
   "execution_count": 16,
   "id": "2629fe4f",
   "metadata": {},
   "outputs": [],
   "source": [
    "# Remove multiple spaces\n",
    "def remove_mult_spaces(text):\n",
    "    return re.sub(r\"\\s\\s+\", \" \", text)"
   ]
  },
  {
   "cell_type": "code",
   "execution_count": 17,
   "id": "6b0691f1",
   "metadata": {},
   "outputs": [],
   "source": [
    "#To check whether the text is in English or not\n",
    "def is_english(text):\n",
    "    try:\n",
    "        lang = detect(text)\n",
    "    except LangDetectException:\n",
    "        lang = \"unknown\"\n",
    "    return text if lang == \"en\" else \"\"\n"
   ]
  },
  {
   "cell_type": "code",
   "execution_count": 18,
   "id": "fea00179",
   "metadata": {},
   "outputs": [],
   "source": [
    "#To expand the contracted words. For eg: don't will be converted to donot\n",
    "def expand_contractions(text):\n",
    "    return contractions.fix(text)\n"
   ]
  },
  {
   "cell_type": "code",
   "execution_count": 19,
   "id": "b5e55b92",
   "metadata": {},
   "outputs": [],
   "source": [
    "# Remove numbers\n",
    "def remove_numbers(text):\n",
    "    return re.sub(r'\\d+', '', text)"
   ]
  },
  {
   "cell_type": "code",
   "execution_count": 20,
   "id": "4d8c674b",
   "metadata": {},
   "outputs": [],
   "source": [
    "\n",
    "\n",
    "# Lemmatize words\n",
    "def lemmatize(text):\n",
    "    words = word_tokenize(text)\n",
    "    lemmatized_words = [lemmatizer.lemmatize(word) for word in words]\n",
    "    return ' '.join(lemmatized_words)\n"
   ]
  },
  {
   "cell_type": "code",
   "execution_count": 21,
   "id": "95b58aa6",
   "metadata": {},
   "outputs": [],
   "source": [
    "# Remove short words\n",
    "def remove_short_words(text, min_len=2):\n",
    "    words = text.split()\n",
    "    long_words = [word for word in words if len(word) >= min_len]\n",
    "    return ' '.join(long_words)\n"
   ]
  },
  {
   "cell_type": "code",
   "execution_count": 22,
   "id": "1eca1c92",
   "metadata": {},
   "outputs": [],
   "source": [
    "\n",
    "def replace_elongated_words(text):\n",
    "    regex_pattern = r'\\b(\\w+)((\\w)\\3{2,})(\\w*)\\b'\n",
    "    return re.sub(regex_pattern, r'\\1\\3\\4', text)\n",
    "\n"
   ]
  },
  {
   "cell_type": "code",
   "execution_count": 23,
   "id": "172e56a6",
   "metadata": {},
   "outputs": [],
   "source": [
    "# Remove repeated punctuation\n",
    "def remove_repeated_punctuation(text):\n",
    "    return re.sub(r'[\\?\\.\\!]+(?=[\\?\\.\\!])', '', text)\n",
    "\n",
    "# Remove extra whitespace\n",
    "def remove_extra_whitespace(text):\n",
    "    return ' '.join(text.split())"
   ]
  },
  {
   "cell_type": "code",
   "execution_count": 24,
   "id": "30390fd1",
   "metadata": {},
   "outputs": [],
   "source": [
    "\n",
    "def remove_url_shorteners(text):\n",
    "    return re.sub(\n",
    "        r'(?:http[s]?://)?(?:www\\.)?(?:bit\\.ly|goo\\.gl|t\\.co|tinyurl\\.com|tr\\.im|is\\.gd|'\n",
    "        r'cli\\.gs|u\\.nu|url\\.ie|tiny\\.cc|alturl\\.com|ow\\.ly|bit\\.do|adoro\\.to)\\S+', '', text)\n"
   ]
  },
  {
   "cell_type": "code",
   "execution_count": 25,
   "id": "d4293c64",
   "metadata": {},
   "outputs": [],
   "source": [
    "# Remove spaces at the beginning and end of the tweet\n",
    "def remove_spaces_tweets(tweet):\n",
    "    return tweet.strip()\n",
    "\n",
    "# Remove short tweets\n",
    "def remove_short_tweets(tweet, min_words=3):\n",
    "    words = tweet.split()\n",
    "    return tweet if len(words) >= min_words else \"\""
   ]
  },
  {
   "cell_type": "code",
   "execution_count": 26,
   "id": "cef2be6a",
   "metadata": {},
   "outputs": [],
   "source": [
    "# Function to call all the cleaning functions in the correct order\n",
    "def clean_tweet(tweet):\n",
    "    tweet = remove_emoji(tweet)\n",
    "    tweet = eda_text(tweet)\n",
    "    tweet = is_english(tweet)\n",
    "    tweet = remove_hashtags(tweet)\n",
    "    tweet = filter_special_characters(tweet)\n",
    "    tweet = remove_mult_spaces(tweet)\n",
    "    tweet = remove_numbers(tweet)\n",
    "    tweet = lemmatize(tweet)\n",
    "    tweet = remove_short_words(tweet)\n",
    "    tweet = replace_elongated_words(tweet)\n",
    "    tweet = remove_repeated_punctuation(tweet)\n",
    "    tweet = remove_extra_whitespace(tweet)\n",
    "    tweet = remove_url_shorteners(tweet)\n",
    "    tweet = remove_spaces_tweets(tweet)\n",
    "    tweet = remove_short_tweets(tweet)\n",
    "    tweet = ' '.join(tweet.split())  # Remove multiple spaces between words\n",
    "    return tweet\n",
    "\n",
    "df['text_clean'] = [clean_tweet(tweet) for tweet in df['tweet_text']]"
   ]
  },
  {
   "cell_type": "code",
   "execution_count": 27,
   "id": "ef78bd2a",
   "metadata": {},
   "outputs": [
    {
     "data": {
      "text/html": [
       "<div>\n",
       "<style scoped>\n",
       "    .dataframe tbody tr th:only-of-type {\n",
       "        vertical-align: middle;\n",
       "    }\n",
       "\n",
       "    .dataframe tbody tr th {\n",
       "        vertical-align: top;\n",
       "    }\n",
       "\n",
       "    .dataframe thead th {\n",
       "        text-align: right;\n",
       "    }\n",
       "</style>\n",
       "<table border=\"1\" class=\"dataframe\">\n",
       "  <thead>\n",
       "    <tr style=\"text-align: right;\">\n",
       "      <th></th>\n",
       "      <th>tweet_text</th>\n",
       "      <th>cyberbullying_type</th>\n",
       "      <th>text_clean</th>\n",
       "    </tr>\n",
       "  </thead>\n",
       "  <tbody>\n",
       "    <tr>\n",
       "      <th>0</th>\n",
       "      <td>In other words #katandandre, your food was cra...</td>\n",
       "      <td>not_cyberbullying</td>\n",
       "      <td>word katandandre food crapilicious mkr</td>\n",
       "    </tr>\n",
       "    <tr>\n",
       "      <th>1</th>\n",
       "      <td>Why is #aussietv so white? #MKR #theblock #ImA...</td>\n",
       "      <td>not_cyberbullying</td>\n",
       "      <td>aussietv white mkr theblock imacelebrityau tod...</td>\n",
       "    </tr>\n",
       "    <tr>\n",
       "      <th>2</th>\n",
       "      <td>@XochitlSuckkks a classy whore? Or more red ve...</td>\n",
       "      <td>not_cyberbullying</td>\n",
       "      <td>classy whore red velvet cupcake</td>\n",
       "    </tr>\n",
       "    <tr>\n",
       "      <th>3</th>\n",
       "      <td>@Jason_Gio meh. :P  thanks for the heads up, b...</td>\n",
       "      <td>not_cyberbullying</td>\n",
       "      <td>meh thanks head concerned another angry dude t...</td>\n",
       "    </tr>\n",
       "    <tr>\n",
       "      <th>4</th>\n",
       "      <td>@RudhoeEnglish This is an ISIS account pretend...</td>\n",
       "      <td>not_cyberbullying</td>\n",
       "      <td>isi account pretending kurdish account like is...</td>\n",
       "    </tr>\n",
       "  </tbody>\n",
       "</table>\n",
       "</div>"
      ],
      "text/plain": [
       "                                          tweet_text cyberbullying_type  \\\n",
       "0  In other words #katandandre, your food was cra...  not_cyberbullying   \n",
       "1  Why is #aussietv so white? #MKR #theblock #ImA...  not_cyberbullying   \n",
       "2  @XochitlSuckkks a classy whore? Or more red ve...  not_cyberbullying   \n",
       "3  @Jason_Gio meh. :P  thanks for the heads up, b...  not_cyberbullying   \n",
       "4  @RudhoeEnglish This is an ISIS account pretend...  not_cyberbullying   \n",
       "\n",
       "                                          text_clean  \n",
       "0             word katandandre food crapilicious mkr  \n",
       "1  aussietv white mkr theblock imacelebrityau tod...  \n",
       "2                    classy whore red velvet cupcake  \n",
       "3  meh thanks head concerned another angry dude t...  \n",
       "4  isi account pretending kurdish account like is...  "
      ]
     },
     "execution_count": 27,
     "metadata": {},
     "output_type": "execute_result"
    }
   ],
   "source": [
    "df.head()"
   ]
  },
  {
   "cell_type": "code",
   "execution_count": 28,
   "id": "c993aaa2",
   "metadata": {},
   "outputs": [
    {
     "data": {
      "text/plain": [
       "(47656, 3)"
      ]
     },
     "execution_count": 28,
     "metadata": {},
     "output_type": "execute_result"
    }
   ],
   "source": [
    "df.shape"
   ]
  },
  {
   "cell_type": "markdown",
   "id": "0220b0e1",
   "metadata": {},
   "source": [
    "Is there any duplicate tweets after cleaning?"
   ]
  },
  {
   "cell_type": "code",
   "execution_count": 29,
   "id": "8a7642b9",
   "metadata": {},
   "outputs": [
    {
     "data": {
      "text/plain": [
       "10026"
      ]
     },
     "execution_count": 29,
     "metadata": {},
     "output_type": "execute_result"
    }
   ],
   "source": [
    "int(df[\"text_clean\"].duplicated().sum())"
   ]
  },
  {
   "cell_type": "code",
   "execution_count": 30,
   "id": "3e0ef83f",
   "metadata": {},
   "outputs": [],
   "source": [
    "df.drop_duplicates(\"text_clean\",inplace= True)"
   ]
  },
  {
   "cell_type": "code",
   "execution_count": 31,
   "id": "d4a8d804",
   "metadata": {},
   "outputs": [
    {
     "data": {
      "text/plain": [
       "(37630, 3)"
      ]
     },
     "execution_count": 31,
     "metadata": {},
     "output_type": "execute_result"
    }
   ],
   "source": [
    "df.shape"
   ]
  },
  {
   "cell_type": "markdown",
   "id": "eceab280",
   "metadata": {},
   "source": [
    "We removed the duplicates and now we have a data frame is (37668, 3)"
   ]
  },
  {
   "cell_type": "code",
   "execution_count": 32,
   "id": "26ecbd27",
   "metadata": {},
   "outputs": [
    {
     "data": {
      "text/plain": [
       "cyberbullying_type\n",
       "age                    7739\n",
       "religion               7572\n",
       "gender                 6434\n",
       "ethnicity              6416\n",
       "not_cyberbullying      5115\n",
       "other_cyberbullying    4354\n",
       "Name: count, dtype: int64"
      ]
     },
     "execution_count": 32,
     "metadata": {},
     "output_type": "execute_result"
    }
   ],
   "source": [
    "df.cyberbullying_type.value_counts()"
   ]
  },
  {
   "cell_type": "markdown",
   "id": "9fa6360b",
   "metadata": {},
   "source": [
    "The 'other_cyberbullying' has only 4357 instances which shows it is imbalanced..so we need to remove this class as it may affect the result"
   ]
  },
  {
   "cell_type": "code",
   "execution_count": 33,
   "id": "59b778c5",
   "metadata": {},
   "outputs": [],
   "source": [
    "df = df[df['cyberbullying_type'] != 'other_cyberbullying']"
   ]
  },
  {
   "cell_type": "code",
   "execution_count": 34,
   "id": "f526f7e4",
   "metadata": {},
   "outputs": [
    {
     "data": {
      "text/html": [
       "<div>\n",
       "<style scoped>\n",
       "    .dataframe tbody tr th:only-of-type {\n",
       "        vertical-align: middle;\n",
       "    }\n",
       "\n",
       "    .dataframe tbody tr th {\n",
       "        vertical-align: top;\n",
       "    }\n",
       "\n",
       "    .dataframe thead th {\n",
       "        text-align: right;\n",
       "    }\n",
       "</style>\n",
       "<table border=\"1\" class=\"dataframe\">\n",
       "  <thead>\n",
       "    <tr style=\"text-align: right;\">\n",
       "      <th></th>\n",
       "      <th>tweet_text</th>\n",
       "      <th>cyberbullying_type</th>\n",
       "      <th>text_clean</th>\n",
       "    </tr>\n",
       "  </thead>\n",
       "  <tbody>\n",
       "    <tr>\n",
       "      <th>0</th>\n",
       "      <td>In other words #katandandre, your food was cra...</td>\n",
       "      <td>not_cyberbullying</td>\n",
       "      <td>word katandandre food crapilicious mkr</td>\n",
       "    </tr>\n",
       "    <tr>\n",
       "      <th>1</th>\n",
       "      <td>Why is #aussietv so white? #MKR #theblock #ImA...</td>\n",
       "      <td>not_cyberbullying</td>\n",
       "      <td>aussietv white mkr theblock imacelebrityau tod...</td>\n",
       "    </tr>\n",
       "    <tr>\n",
       "      <th>2</th>\n",
       "      <td>@XochitlSuckkks a classy whore? Or more red ve...</td>\n",
       "      <td>not_cyberbullying</td>\n",
       "      <td>classy whore red velvet cupcake</td>\n",
       "    </tr>\n",
       "    <tr>\n",
       "      <th>3</th>\n",
       "      <td>@Jason_Gio meh. :P  thanks for the heads up, b...</td>\n",
       "      <td>not_cyberbullying</td>\n",
       "      <td>meh thanks head concerned another angry dude t...</td>\n",
       "    </tr>\n",
       "    <tr>\n",
       "      <th>4</th>\n",
       "      <td>@RudhoeEnglish This is an ISIS account pretend...</td>\n",
       "      <td>not_cyberbullying</td>\n",
       "      <td>isi account pretending kurdish account like is...</td>\n",
       "    </tr>\n",
       "  </tbody>\n",
       "</table>\n",
       "</div>"
      ],
      "text/plain": [
       "                                          tweet_text cyberbullying_type  \\\n",
       "0  In other words #katandandre, your food was cra...  not_cyberbullying   \n",
       "1  Why is #aussietv so white? #MKR #theblock #ImA...  not_cyberbullying   \n",
       "2  @XochitlSuckkks a classy whore? Or more red ve...  not_cyberbullying   \n",
       "3  @Jason_Gio meh. :P  thanks for the heads up, b...  not_cyberbullying   \n",
       "4  @RudhoeEnglish This is an ISIS account pretend...  not_cyberbullying   \n",
       "\n",
       "                                          text_clean  \n",
       "0             word katandandre food crapilicious mkr  \n",
       "1  aussietv white mkr theblock imacelebrityau tod...  \n",
       "2                    classy whore red velvet cupcake  \n",
       "3  meh thanks head concerned another angry dude t...  \n",
       "4  isi account pretending kurdish account like is...  "
      ]
     },
     "execution_count": 34,
     "metadata": {},
     "output_type": "execute_result"
    }
   ],
   "source": [
    "df.head()"
   ]
  },
  {
   "cell_type": "code",
   "execution_count": 35,
   "id": "e15b2e14",
   "metadata": {},
   "outputs": [
    {
     "data": {
      "text/plain": [
       "(33276, 3)"
      ]
     },
     "execution_count": 35,
     "metadata": {},
     "output_type": "execute_result"
    }
   ],
   "source": [
    "df.shape"
   ]
  },
  {
   "cell_type": "code",
   "execution_count": 36,
   "id": "6ace6fca",
   "metadata": {},
   "outputs": [],
   "source": [
    "sentiments = df['cyberbullying_type'].unique().tolist()"
   ]
  },
  {
   "cell_type": "code",
   "execution_count": 37,
   "id": "edecd20a",
   "metadata": {},
   "outputs": [
    {
     "data": {
      "text/plain": [
       "['not_cyberbullying', 'gender', 'religion', 'age', 'ethnicity']"
      ]
     },
     "execution_count": 37,
     "metadata": {},
     "output_type": "execute_result"
    }
   ],
   "source": [
    "sentiments"
   ]
  },
  {
   "cell_type": "markdown",
   "id": "0f78ae8e",
   "metadata": {},
   "source": [
    "# Analysis - Tweet length \n"
   ]
  },
  {
   "cell_type": "markdown",
   "id": "45a6c5ad",
   "metadata": {},
   "source": [
    "lets create a new column to store the length of tweets"
   ]
  },
  {
   "cell_type": "code",
   "execution_count": 38,
   "id": "411468eb",
   "metadata": {},
   "outputs": [],
   "source": [
    "df['tweet_length'] = df['text_clean'].apply(lambda x: len(str(x).split()))"
   ]
  },
  {
   "cell_type": "code",
   "execution_count": 39,
   "id": "282d44d1",
   "metadata": {},
   "outputs": [
    {
     "data": {
      "text/html": [
       "<div>\n",
       "<style scoped>\n",
       "    .dataframe tbody tr th:only-of-type {\n",
       "        vertical-align: middle;\n",
       "    }\n",
       "\n",
       "    .dataframe tbody tr th {\n",
       "        vertical-align: top;\n",
       "    }\n",
       "\n",
       "    .dataframe thead th {\n",
       "        text-align: right;\n",
       "    }\n",
       "</style>\n",
       "<table border=\"1\" class=\"dataframe\">\n",
       "  <thead>\n",
       "    <tr style=\"text-align: right;\">\n",
       "      <th></th>\n",
       "      <th>tweet_text</th>\n",
       "      <th>cyberbullying_type</th>\n",
       "      <th>text_clean</th>\n",
       "      <th>tweet_length</th>\n",
       "    </tr>\n",
       "  </thead>\n",
       "  <tbody>\n",
       "    <tr>\n",
       "      <th>0</th>\n",
       "      <td>In other words #katandandre, your food was cra...</td>\n",
       "      <td>not_cyberbullying</td>\n",
       "      <td>word katandandre food crapilicious mkr</td>\n",
       "      <td>5</td>\n",
       "    </tr>\n",
       "    <tr>\n",
       "      <th>1</th>\n",
       "      <td>Why is #aussietv so white? #MKR #theblock #ImA...</td>\n",
       "      <td>not_cyberbullying</td>\n",
       "      <td>aussietv white mkr theblock imacelebrityau tod...</td>\n",
       "      <td>11</td>\n",
       "    </tr>\n",
       "    <tr>\n",
       "      <th>2</th>\n",
       "      <td>@XochitlSuckkks a classy whore? Or more red ve...</td>\n",
       "      <td>not_cyberbullying</td>\n",
       "      <td>classy whore red velvet cupcake</td>\n",
       "      <td>5</td>\n",
       "    </tr>\n",
       "    <tr>\n",
       "      <th>3</th>\n",
       "      <td>@Jason_Gio meh. :P  thanks for the heads up, b...</td>\n",
       "      <td>not_cyberbullying</td>\n",
       "      <td>meh thanks head concerned another angry dude t...</td>\n",
       "      <td>8</td>\n",
       "    </tr>\n",
       "    <tr>\n",
       "      <th>4</th>\n",
       "      <td>@RudhoeEnglish This is an ISIS account pretend...</td>\n",
       "      <td>not_cyberbullying</td>\n",
       "      <td>isi account pretending kurdish account like is...</td>\n",
       "      <td>8</td>\n",
       "    </tr>\n",
       "  </tbody>\n",
       "</table>\n",
       "</div>"
      ],
      "text/plain": [
       "                                          tweet_text cyberbullying_type  \\\n",
       "0  In other words #katandandre, your food was cra...  not_cyberbullying   \n",
       "1  Why is #aussietv so white? #MKR #theblock #ImA...  not_cyberbullying   \n",
       "2  @XochitlSuckkks a classy whore? Or more red ve...  not_cyberbullying   \n",
       "3  @Jason_Gio meh. :P  thanks for the heads up, b...  not_cyberbullying   \n",
       "4  @RudhoeEnglish This is an ISIS account pretend...  not_cyberbullying   \n",
       "\n",
       "                                          text_clean  tweet_length  \n",
       "0             word katandandre food crapilicious mkr             5  \n",
       "1  aussietv white mkr theblock imacelebrityau tod...            11  \n",
       "2                    classy whore red velvet cupcake             5  \n",
       "3  meh thanks head concerned another angry dude t...             8  \n",
       "4  isi account pretending kurdish account like is...             8  "
      ]
     },
     "execution_count": 39,
     "metadata": {},
     "output_type": "execute_result"
    }
   ],
   "source": [
    "df.head()"
   ]
  },
  {
   "cell_type": "markdown",
   "id": "204ede26",
   "metadata": {},
   "source": [
    "Lets sort the dataframe based on ascending order of tweet_length"
   ]
  },
  {
   "cell_type": "code",
   "execution_count": 40,
   "id": "645b564b",
   "metadata": {},
   "outputs": [
    {
     "data": {
      "text/html": [
       "<div>\n",
       "<style scoped>\n",
       "    .dataframe tbody tr th:only-of-type {\n",
       "        vertical-align: middle;\n",
       "    }\n",
       "\n",
       "    .dataframe tbody tr th {\n",
       "        vertical-align: top;\n",
       "    }\n",
       "\n",
       "    .dataframe thead th {\n",
       "        text-align: right;\n",
       "    }\n",
       "</style>\n",
       "<table border=\"1\" class=\"dataframe\">\n",
       "  <thead>\n",
       "    <tr style=\"text-align: right;\">\n",
       "      <th></th>\n",
       "      <th>tweet_text</th>\n",
       "      <th>cyberbullying_type</th>\n",
       "      <th>text_clean</th>\n",
       "      <th>tweet_length</th>\n",
       "    </tr>\n",
       "  </thead>\n",
       "  <tbody>\n",
       "    <tr>\n",
       "      <th>44035</th>\n",
       "      <td>You so black and white trying to live like a n...</td>\n",
       "      <td>ethnicity</td>\n",
       "      <td>black white trying live like nigger pahahahaha...</td>\n",
       "      <td>178</td>\n",
       "    </tr>\n",
       "    <tr>\n",
       "      <th>45165</th>\n",
       "      <td>@hermdiggz: “@tayyoung_: FUCK OBAMA, dumb ass ...</td>\n",
       "      <td>ethnicity</td>\n",
       "      <td>fuck obama dumb as nigger bitch ltthis whore s...</td>\n",
       "      <td>154</td>\n",
       "    </tr>\n",
       "    <tr>\n",
       "      <th>1317</th>\n",
       "      <td>@EurekAlertAAAS: Researchers push to import to...</td>\n",
       "      <td>not_cyberbullying</td>\n",
       "      <td>researcher push import top antibullying progra...</td>\n",
       "      <td>142</td>\n",
       "    </tr>\n",
       "    <tr>\n",
       "      <th>33724</th>\n",
       "      <td>... I don't feel guilty for killing him, I jus...</td>\n",
       "      <td>age</td>\n",
       "      <td>dont feel guilty killing feel guilty enjoyed t...</td>\n",
       "      <td>140</td>\n",
       "    </tr>\n",
       "    <tr>\n",
       "      <th>15621</th>\n",
       "      <td>@ufcpride40: : Terry Bean, prominent gay activ...</td>\n",
       "      <td>gender</td>\n",
       "      <td>terry bean prominent gay activist major obama ...</td>\n",
       "      <td>124</td>\n",
       "    </tr>\n",
       "    <tr>\n",
       "      <th>...</th>\n",
       "      <td>...</td>\n",
       "      <td>...</td>\n",
       "      <td>...</td>\n",
       "      <td>...</td>\n",
       "    </tr>\n",
       "    <tr>\n",
       "      <th>995</th>\n",
       "      <td>@bruce_veltri Social Justice Warrior.</td>\n",
       "      <td>not_cyberbullying</td>\n",
       "      <td>social justice warrior</td>\n",
       "      <td>3</td>\n",
       "    </tr>\n",
       "    <tr>\n",
       "      <th>9243</th>\n",
       "      <td>He's fucking dreadful.</td>\n",
       "      <td>gender</td>\n",
       "      <td>he fucking dreadful</td>\n",
       "      <td>3</td>\n",
       "    </tr>\n",
       "    <tr>\n",
       "      <th>5883</th>\n",
       "      <td>Best thing I have heard :)</td>\n",
       "      <td>not_cyberbullying</td>\n",
       "      <td>best thing heard</td>\n",
       "      <td>3</td>\n",
       "    </tr>\n",
       "    <tr>\n",
       "      <th>4043</th>\n",
       "      <td>@bellathorne143 BULLYING WE'LL STOP IT!!! http...</td>\n",
       "      <td>not_cyberbullying</td>\n",
       "      <td>bullying well stop</td>\n",
       "      <td>3</td>\n",
       "    </tr>\n",
       "    <tr>\n",
       "      <th>6</th>\n",
       "      <td>Itu sekolah ya bukan tempat bully! Ga jauh kay...</td>\n",
       "      <td>not_cyberbullying</td>\n",
       "      <td></td>\n",
       "      <td>0</td>\n",
       "    </tr>\n",
       "  </tbody>\n",
       "</table>\n",
       "<p>33276 rows × 4 columns</p>\n",
       "</div>"
      ],
      "text/plain": [
       "                                              tweet_text cyberbullying_type  \\\n",
       "44035  You so black and white trying to live like a n...          ethnicity   \n",
       "45165  @hermdiggz: “@tayyoung_: FUCK OBAMA, dumb ass ...          ethnicity   \n",
       "1317   @EurekAlertAAAS: Researchers push to import to...  not_cyberbullying   \n",
       "33724  ... I don't feel guilty for killing him, I jus...                age   \n",
       "15621  @ufcpride40: : Terry Bean, prominent gay activ...             gender   \n",
       "...                                                  ...                ...   \n",
       "995                @bruce_veltri Social Justice Warrior.  not_cyberbullying   \n",
       "9243                              He's fucking dreadful.             gender   \n",
       "5883                          Best thing I have heard :)  not_cyberbullying   \n",
       "4043   @bellathorne143 BULLYING WE'LL STOP IT!!! http...  not_cyberbullying   \n",
       "6      Itu sekolah ya bukan tempat bully! Ga jauh kay...  not_cyberbullying   \n",
       "\n",
       "                                              text_clean  tweet_length  \n",
       "44035  black white trying live like nigger pahahahaha...           178  \n",
       "45165  fuck obama dumb as nigger bitch ltthis whore s...           154  \n",
       "1317   researcher push import top antibullying progra...           142  \n",
       "33724  dont feel guilty killing feel guilty enjoyed t...           140  \n",
       "15621  terry bean prominent gay activist major obama ...           124  \n",
       "...                                                  ...           ...  \n",
       "995                               social justice warrior             3  \n",
       "9243                                 he fucking dreadful             3  \n",
       "5883                                    best thing heard             3  \n",
       "4043                                  bullying well stop             3  \n",
       "6                                                                    0  \n",
       "\n",
       "[33276 rows x 4 columns]"
      ]
     },
     "execution_count": 40,
     "metadata": {},
     "output_type": "execute_result"
    }
   ],
   "source": [
    "df.sort_values(by = ['tweet_length'], ascending = False)"
   ]
  },
  {
   "cell_type": "markdown",
   "id": "a1e0740a",
   "metadata": {},
   "source": [
    "maximum length of a tweet is 178, Let's plot count of plots with greater than 10 separately"
   ]
  },
  {
   "cell_type": "code",
   "execution_count": 41,
   "id": "96ca28a2",
   "metadata": {},
   "outputs": [
    {
     "data": {
      "image/png": "[encoded data removed]",
      "text/plain": [
       "<Figure size 1600x500 with 1 Axes>"
      ]
     },
     "metadata": {},
     "output_type": "display_data"
    }
   ],
   "source": [
    "plt.figure(figsize=(16,5))\n",
    "ax = sns.countplot(x='tweet_length', data=df[(df['tweet_length']<=1000) & (df['tweet_length']>10)], palette='Blues_r')\n",
    "plt.title('Count of tweets with high number of words', fontsize=25)\n",
    "plt.yticks([])\n",
    "ax.bar_label(ax.containers[0])\n",
    "plt.ylabel('Number of tweets')\n",
    "plt.xlabel('Number of words')\n",
    "plt.show()"
   ]
  },
  {
   "cell_type": "markdown",
   "id": "185e9358",
   "metadata": {},
   "source": [
    "The number of tweets with count more than 100 is very less. let's remove those"
   ]
  },
  {
   "cell_type": "code",
   "execution_count": 42,
   "id": "c6b8c475",
   "metadata": {},
   "outputs": [],
   "source": [
    "df = df[df['tweet_length'] < 100]"
   ]
  },
  {
   "cell_type": "code",
   "execution_count": 43,
   "id": "3a508478",
   "metadata": {},
   "outputs": [
    {
     "data": {
      "image/png": "[encoded data removed]",
      "text/plain": [
       "<Figure size 1600x500 with 1 Axes>"
      ]
     },
     "metadata": {},
     "output_type": "display_data"
    }
   ],
   "source": [
    "plt.figure(figsize=(16,5))\n",
    "ax = sns.countplot(x='tweet_length', data=df, palette='Blues_r')\n",
    "plt.title('Count of tweets for each number of words', fontsize=25)\n",
    "plt.yticks([])\n",
    "ax.bar_label(ax.containers[0])\n",
    "plt.ylabel('Number of Tweets')\n",
    "plt.xlabel('Number of words')\n",
    "plt.show()"
   ]
  },
  {
   "cell_type": "markdown",
   "id": "2d80312d",
   "metadata": {},
   "source": [
    "Lets get the maximum length of longest tweet"
   ]
  },
  {
   "cell_type": "code",
   "execution_count": 44,
   "id": "732def8b",
   "metadata": {},
   "outputs": [
    {
     "data": {
      "text/plain": [
       "96"
      ]
     },
     "execution_count": 44,
     "metadata": {},
     "output_type": "execute_result"
    }
   ],
   "source": [
    "max_len = np.max(df['tweet_length'])\n",
    "max_len "
   ]
  },
  {
   "cell_type": "code",
   "execution_count": 45,
   "id": "f33e4023",
   "metadata": {},
   "outputs": [
    {
     "data": {
      "text/html": [
       "<div>\n",
       "<style scoped>\n",
       "    .dataframe tbody tr th:only-of-type {\n",
       "        vertical-align: middle;\n",
       "    }\n",
       "\n",
       "    .dataframe tbody tr th {\n",
       "        vertical-align: top;\n",
       "    }\n",
       "\n",
       "    .dataframe thead th {\n",
       "        text-align: right;\n",
       "    }\n",
       "</style>\n",
       "<table border=\"1\" class=\"dataframe\">\n",
       "  <thead>\n",
       "    <tr style=\"text-align: right;\">\n",
       "      <th></th>\n",
       "      <th>tweet_text</th>\n",
       "      <th>cyberbullying_type</th>\n",
       "      <th>text_clean</th>\n",
       "      <th>tweet_length</th>\n",
       "    </tr>\n",
       "  </thead>\n",
       "  <tbody>\n",
       "    <tr>\n",
       "      <th>3030</th>\n",
       "      <td>He embellished the afternoon with moustachioed...</td>\n",
       "      <td>not_cyberbullying</td>\n",
       "      <td>embellished afternoon moustachioed feint amp f...</td>\n",
       "      <td>96</td>\n",
       "    </tr>\n",
       "    <tr>\n",
       "      <th>4846</th>\n",
       "      <td>@andrea_gcav: @viviaanajim recuerdas como noso...</td>\n",
       "      <td>not_cyberbullying</td>\n",
       "      <td>recuerdas como nosotras tambin eramos victimas...</td>\n",
       "      <td>82</td>\n",
       "    </tr>\n",
       "    <tr>\n",
       "      <th>44294</th>\n",
       "      <td>@JasmineLovvee If He Dont Want You Well Fuck H...</td>\n",
       "      <td>ethnicity</td>\n",
       "      <td>dont want well fuck aint worth tear never swea...</td>\n",
       "      <td>72</td>\n",
       "    </tr>\n",
       "    <tr>\n",
       "      <th>21241</th>\n",
       "      <td>And yet God was able to meet their needs using...</td>\n",
       "      <td>religion</td>\n",
       "      <td>yet god able meet need using radical everyday ...</td>\n",
       "      <td>42</td>\n",
       "    </tr>\n",
       "    <tr>\n",
       "      <th>17436</th>\n",
       "      <td>Ho he nahi skata ki tum log sanvidhan bachane ...</td>\n",
       "      <td>religion</td>\n",
       "      <td>ho nahi skata ki tum log sanvidhan bachane nik...</td>\n",
       "      <td>41</td>\n",
       "    </tr>\n",
       "    <tr>\n",
       "      <th>...</th>\n",
       "      <td>...</td>\n",
       "      <td>...</td>\n",
       "      <td>...</td>\n",
       "      <td>...</td>\n",
       "    </tr>\n",
       "    <tr>\n",
       "      <th>5336</th>\n",
       "      <td>There is a price for every process..</td>\n",
       "      <td>not_cyberbullying</td>\n",
       "      <td>price every process</td>\n",
       "      <td>3</td>\n",
       "    </tr>\n",
       "    <tr>\n",
       "      <th>12565</th>\n",
       "      <td>@FoxNews @KellyannePolls @POTUS She has a way ...</td>\n",
       "      <td>gender</td>\n",
       "      <td>way word idiot</td>\n",
       "      <td>3</td>\n",
       "    </tr>\n",
       "    <tr>\n",
       "      <th>5362</th>\n",
       "      <td>The convo me and best bud are having</td>\n",
       "      <td>not_cyberbullying</td>\n",
       "      <td>convo best bud</td>\n",
       "      <td>3</td>\n",
       "    </tr>\n",
       "    <tr>\n",
       "      <th>3723</th>\n",
       "      <td>I love this show #MKR</td>\n",
       "      <td>not_cyberbullying</td>\n",
       "      <td>love show mkr</td>\n",
       "      <td>3</td>\n",
       "    </tr>\n",
       "    <tr>\n",
       "      <th>6</th>\n",
       "      <td>Itu sekolah ya bukan tempat bully! Ga jauh kay...</td>\n",
       "      <td>not_cyberbullying</td>\n",
       "      <td></td>\n",
       "      <td>0</td>\n",
       "    </tr>\n",
       "  </tbody>\n",
       "</table>\n",
       "<p>33268 rows × 4 columns</p>\n",
       "</div>"
      ],
      "text/plain": [
       "                                              tweet_text cyberbullying_type  \\\n",
       "3030   He embellished the afternoon with moustachioed...  not_cyberbullying   \n",
       "4846   @andrea_gcav: @viviaanajim recuerdas como noso...  not_cyberbullying   \n",
       "44294  @JasmineLovvee If He Dont Want You Well Fuck H...          ethnicity   \n",
       "21241  And yet God was able to meet their needs using...           religion   \n",
       "17436  Ho he nahi skata ki tum log sanvidhan bachane ...           religion   \n",
       "...                                                  ...                ...   \n",
       "5336                There is a price for every process..  not_cyberbullying   \n",
       "12565  @FoxNews @KellyannePolls @POTUS She has a way ...             gender   \n",
       "5362                The convo me and best bud are having  not_cyberbullying   \n",
       "3723                               I love this show #MKR  not_cyberbullying   \n",
       "6      Itu sekolah ya bukan tempat bully! Ga jauh kay...  not_cyberbullying   \n",
       "\n",
       "                                              text_clean  tweet_length  \n",
       "3030   embellished afternoon moustachioed feint amp f...            96  \n",
       "4846   recuerdas como nosotras tambin eramos victimas...            82  \n",
       "44294  dont want well fuck aint worth tear never swea...            72  \n",
       "21241  yet god able meet need using radical everyday ...            42  \n",
       "17436  ho nahi skata ki tum log sanvidhan bachane nik...            41  \n",
       "...                                                  ...           ...  \n",
       "5336                                 price every process             3  \n",
       "12565                                     way word idiot             3  \n",
       "5362                                      convo best bud             3  \n",
       "3723                                       love show mkr             3  \n",
       "6                                                                    0  \n",
       "\n",
       "[33268 rows x 4 columns]"
      ]
     },
     "execution_count": 45,
     "metadata": {},
     "output_type": "execute_result"
    }
   ],
   "source": [
    "df.sort_values(by= 'tweet_length', ascending = False)"
   ]
  },
  {
   "cell_type": "markdown",
   "id": "71d16f7b",
   "metadata": {},
   "source": [
    "Let's encode the cyberbullying_type column by ordinal encoding"
   ]
  },
  {
   "cell_type": "code",
   "execution_count": 46,
   "id": "92713bd1",
   "metadata": {},
   "outputs": [],
   "source": [
    "df['cyberbullying_type'] = df['cyberbullying_type'].replace({'religion':0,'age':1,'ethnicity':2,'gender':3,'not_cyberbullying':4})"
   ]
  },
  {
   "cell_type": "code",
   "execution_count": 47,
   "id": "e14cd056",
   "metadata": {},
   "outputs": [
    {
     "data": {
      "text/html": [
       "<div>\n",
       "<style scoped>\n",
       "    .dataframe tbody tr th:only-of-type {\n",
       "        vertical-align: middle;\n",
       "    }\n",
       "\n",
       "    .dataframe tbody tr th {\n",
       "        vertical-align: top;\n",
       "    }\n",
       "\n",
       "    .dataframe thead th {\n",
       "        text-align: right;\n",
       "    }\n",
       "</style>\n",
       "<table border=\"1\" class=\"dataframe\">\n",
       "  <thead>\n",
       "    <tr style=\"text-align: right;\">\n",
       "      <th></th>\n",
       "      <th>tweet_text</th>\n",
       "      <th>cyberbullying_type</th>\n",
       "      <th>text_clean</th>\n",
       "      <th>tweet_length</th>\n",
       "    </tr>\n",
       "  </thead>\n",
       "  <tbody>\n",
       "    <tr>\n",
       "      <th>0</th>\n",
       "      <td>In other words #katandandre, your food was cra...</td>\n",
       "      <td>4</td>\n",
       "      <td>word katandandre food crapilicious mkr</td>\n",
       "      <td>5</td>\n",
       "    </tr>\n",
       "    <tr>\n",
       "      <th>1</th>\n",
       "      <td>Why is #aussietv so white? #MKR #theblock #ImA...</td>\n",
       "      <td>4</td>\n",
       "      <td>aussietv white mkr theblock imacelebrityau tod...</td>\n",
       "      <td>11</td>\n",
       "    </tr>\n",
       "    <tr>\n",
       "      <th>2</th>\n",
       "      <td>@XochitlSuckkks a classy whore? Or more red ve...</td>\n",
       "      <td>4</td>\n",
       "      <td>classy whore red velvet cupcake</td>\n",
       "      <td>5</td>\n",
       "    </tr>\n",
       "    <tr>\n",
       "      <th>3</th>\n",
       "      <td>@Jason_Gio meh. :P  thanks for the heads up, b...</td>\n",
       "      <td>4</td>\n",
       "      <td>meh thanks head concerned another angry dude t...</td>\n",
       "      <td>8</td>\n",
       "    </tr>\n",
       "    <tr>\n",
       "      <th>4</th>\n",
       "      <td>@RudhoeEnglish This is an ISIS account pretend...</td>\n",
       "      <td>4</td>\n",
       "      <td>isi account pretending kurdish account like is...</td>\n",
       "      <td>8</td>\n",
       "    </tr>\n",
       "  </tbody>\n",
       "</table>\n",
       "</div>"
      ],
      "text/plain": [
       "                                          tweet_text  cyberbullying_type  \\\n",
       "0  In other words #katandandre, your food was cra...                   4   \n",
       "1  Why is #aussietv so white? #MKR #theblock #ImA...                   4   \n",
       "2  @XochitlSuckkks a classy whore? Or more red ve...                   4   \n",
       "3  @Jason_Gio meh. :P  thanks for the heads up, b...                   4   \n",
       "4  @RudhoeEnglish This is an ISIS account pretend...                   4   \n",
       "\n",
       "                                          text_clean  tweet_length  \n",
       "0             word katandandre food crapilicious mkr             5  \n",
       "1  aussietv white mkr theblock imacelebrityau tod...            11  \n",
       "2                    classy whore red velvet cupcake             5  \n",
       "3  meh thanks head concerned another angry dude t...             8  \n",
       "4  isi account pretending kurdish account like is...             8  "
      ]
     },
     "execution_count": 47,
     "metadata": {},
     "output_type": "execute_result"
    }
   ],
   "source": [
    "df.head()"
   ]
  },
  {
   "cell_type": "code",
   "execution_count": 48,
   "id": "218f11c7",
   "metadata": {},
   "outputs": [
    {
     "data": {
      "text/plain": [
       "array([4, 3, 0, 1, 2], dtype=int64)"
      ]
     },
     "execution_count": 48,
     "metadata": {},
     "output_type": "execute_result"
    }
   ],
   "source": [
    "df['cyberbullying_type'].unique()"
   ]
  },
  {
   "cell_type": "markdown",
   "id": "869342dc",
   "metadata": {},
   "source": [
    "# Train -Test Data Splitting"
   ]
  },
  {
   "cell_type": "markdown",
   "id": "88c0db55",
   "metadata": {},
   "source": [
    "lets define X and Y"
   ]
  },
  {
   "cell_type": "code",
   "execution_count": 49,
   "id": "1c764f46",
   "metadata": {},
   "outputs": [],
   "source": [
    "X = df['text_clean']\n",
    "y = df['cyberbullying_type']"
   ]
  },
  {
   "cell_type": "code",
   "execution_count": 50,
   "id": "c5b9921f",
   "metadata": {},
   "outputs": [],
   "source": [
    "X_train, X_test, y_train, y_test = train_test_split(X, y, test_size = 0.2, stratify = y, random_state = seed_value)"
   ]
  },
  {
   "cell_type": "markdown",
   "id": "d48829af",
   "metadata": {},
   "source": [
    "# Train - validation split"
   ]
  },
  {
   "cell_type": "code",
   "execution_count": 51,
   "id": "780f6f59",
   "metadata": {},
   "outputs": [],
   "source": [
    "X_train, X_valid, y_train, y_valid = train_test_split(X_train, y_train, test_size=0.2, stratify=y_train, random_state=seed_value)"
   ]
  },
  {
   "cell_type": "code",
   "execution_count": 52,
   "id": "9a067768",
   "metadata": {},
   "outputs": [
    {
     "data": {
      "text/plain": [
       "array([[   0, 4846],\n",
       "       [   1, 4952],\n",
       "       [   2, 4104],\n",
       "       [   3, 4116],\n",
       "       [   4, 3273]], dtype=int64)"
      ]
     },
     "execution_count": 52,
     "metadata": {},
     "output_type": "execute_result"
    }
   ],
   "source": [
    "(unique, counts) = np.unique(y_train, return_counts=True)\n",
    "np.asarray((unique, counts)).T"
   ]
  },
  {
   "cell_type": "markdown",
   "id": "ec0ffbad",
   "metadata": {},
   "source": [
    "Since the classes are unbalanced, it would be better to oversample this data so that all classes have the same count as the most popular one"
   ]
  },
  {
   "cell_type": "markdown",
   "id": "3f9d1164",
   "metadata": {},
   "source": [
    "# Oversampling the Train Data"
   ]
  },
  {
   "cell_type": "code",
   "execution_count": 53,
   "id": "2c282a5a",
   "metadata": {},
   "outputs": [],
   "source": [
    "ros = RandomOverSampler()\n",
    "X_train, y_train = ros.fit_resample(np.array(X_train).reshape(-1, 1), np.array(y_train).reshape(-1, 1));\n",
    "train_os = pd.DataFrame(list(zip([x[0] for x in X_train], y_train)), columns = ['text_clean', 'cyberbullying_type']);"
   ]
  },
  {
   "cell_type": "code",
   "execution_count": 54,
   "id": "3e120702",
   "metadata": {},
   "outputs": [],
   "source": [
    "X_train = train_os['text_clean'].values\n",
    "y_train = train_os['cyberbullying_type'].values"
   ]
  },
  {
   "cell_type": "code",
   "execution_count": 55,
   "id": "726a003b",
   "metadata": {},
   "outputs": [
    {
     "data": {
      "text/plain": [
       "array([[   0, 4952],\n",
       "       [   1, 4952],\n",
       "       [   2, 4952],\n",
       "       [   3, 4952],\n",
       "       [   4, 4952]], dtype=int64)"
      ]
     },
     "execution_count": 55,
     "metadata": {},
     "output_type": "execute_result"
    }
   ],
   "source": [
    "(unique, counts) = np.unique(y_train, return_counts=True)\n",
    "np.asarray((unique, counts)).T"
   ]
  },
  {
   "cell_type": "markdown",
   "id": "5008bebf",
   "metadata": {},
   "source": [
    "Now, the classes look balanced. Let's, tokenize the train dataset and create padding sequence "
   ]
  },
  {
   "cell_type": "code",
   "execution_count": 56,
   "id": "57ced56b",
   "metadata": {},
   "outputs": [
    {
     "data": {
      "text/plain": [
       "array([[   0,    0,    0, ..., 1740,   56, 1133],\n",
       "       [   0,    0,    0, ...,  556,  336,  690],\n",
       "       [   0,    0,    0, ..., 1300, 4978,    7],\n",
       "       ...,\n",
       "       [   0,    0,    0, ...,   76, 2450,   89],\n",
       "       [   0,    0,    0, ...,  511,   10,  980],\n",
       "       [   0,    0,    0, ...,  848,   23,   20]])"
      ]
     },
     "execution_count": 56,
     "metadata": {},
     "output_type": "execute_result"
    }
   ],
   "source": [
    "from tensorflow.keras.preprocessing.text import Tokenizer\n",
    "from tensorflow.keras.preprocessing.sequence import pad_sequences\n",
    "from keras.layers import Dense , Input ,Embedding, Flatten\n",
    "from keras.layers import concatenate\n",
    "from keras.models import Model\n",
    "from sklearn.model_selection import train_test_split\n",
    "\n",
    "#Tokenization\n",
    "max_words = 10000\n",
    "tokenizer = Tokenizer(num_words=max_words)\n",
    "tokenizer.fit_on_texts(X_train)\n",
    "word_index = tokenizer.word_index\n",
    "#Padding sequences\n",
    "maxlen = max_len\n",
    "train_sequences = tokenizer.texts_to_sequences(X_train)\n",
    "test_sequences = tokenizer.texts_to_sequences(X_test)\n",
    "padded_train_sequences = pad_sequences(train_sequences, maxlen=maxlen)\n",
    "padded_test_sequences = pad_sequences(test_sequences, maxlen=maxlen)\n",
    "\n",
    "padded_train_sequences"
   ]
  },
  {
   "cell_type": "markdown",
   "id": "248a2562",
   "metadata": {},
   "source": [
    "Create an embedding layer "
   ]
  },
  {
   "cell_type": "code",
   "execution_count": 57,
   "id": "236d677e",
   "metadata": {},
   "outputs": [
    {
     "name": "stdout",
     "output_type": "stream",
     "text": [
      "Model: \"sequential\"\n",
      "_________________________________________________________________\n",
      " Layer (type)                Output Shape              Param #   \n",
      "=================================================================\n",
      " embedding (Embedding)       (None, 96, 100)           1000000   \n",
      "                                                                 \n",
      " flatten (Flatten)           (None, 9600)              0         \n",
      "                                                                 \n",
      " dense (Dense)               (None, 32)                307232    \n",
      "                                                                 \n",
      " dense_1 (Dense)             (None, 1)                 33        \n",
      "                                                                 \n",
      "=================================================================\n",
      "Total params: 1,307,265\n",
      "Trainable params: 1,307,265\n",
      "Non-trainable params: 0\n",
      "_________________________________________________________________\n"
     ]
    }
   ],
   "source": [
    "from keras.models import Sequential\n",
    "from keras.layers import Embedding, Flatten, Dense\n",
    "\n",
    "embedding_dim = 100  # Choose the dimensionality of the embedding space\n",
    "vocab_size = min(len(word_index) + 1, max_words)  # Ensure vocab_size doesn't exceed max_words\n",
    "\n",
    "model = Sequential()\n",
    "\n",
    "# Add an Embedding layer\n",
    "model.add(Embedding(input_dim=vocab_size, output_dim=embedding_dim, input_length=maxlen))\n",
    "\n",
    "# Flatten the 3D embedding output to 2D\n",
    "model.add(Flatten())\n",
    "\n",
    "# Add a Dense layer for classification (you can customize this part based on your task)\n",
    "model.add(Dense(32, activation='relu'))\n",
    "model.add(Dense(1, activation='sigmoid'))  # Assuming binary classification, adjust as needed\n",
    "\n",
    "# Compile the model\n",
    "model.compile(optimizer='adam', loss='binary_crossentropy', metrics=['accuracy'])\n",
    "\n",
    "# Print the model summary\n",
    "model.summary()"
   ]
  },
  {
   "cell_type": "code",
   "execution_count": 58,
   "id": "f3e71c09",
   "metadata": {},
   "outputs": [
    {
     "name": "stdout",
     "output_type": "stream",
     "text": [
      "Epoch 1/100\n",
      "155/155 [==============================] - 3s 15ms/step - loss: -877.2728 - accuracy: 0.2326 - val_loss: -7174.1763 - val_accuracy: 0.0697\n",
      "Epoch 2/100\n",
      "155/155 [==============================] - 2s 15ms/step - loss: -12483.2197 - accuracy: 0.2326 - val_loss: -56386.9727 - val_accuracy: 0.0697\n",
      "Epoch 3/100\n",
      "155/155 [==============================] - 2s 15ms/step - loss: -54878.0938 - accuracy: 0.2326 - val_loss: -191573.5625 - val_accuracy: 0.0697\n",
      "Epoch 4/100\n",
      "155/155 [==============================] - 2s 15ms/step - loss: -147050.8750 - accuracy: 0.2326 - val_loss: -448156.6250 - val_accuracy: 0.0697\n",
      "Epoch 5/100\n",
      "155/155 [==============================] - 2s 15ms/step - loss: -305513.1562 - accuracy: 0.2326 - val_loss: -860044.5000 - val_accuracy: 0.0697\n",
      "Epoch 6/100\n",
      "155/155 [==============================] - 2s 15ms/step - loss: -543604.0000 - accuracy: 0.2326 - val_loss: -1449037.1250 - val_accuracy: 0.0697\n",
      "Epoch 7/100\n",
      "155/155 [==============================] - 3s 16ms/step - loss: -872321.4375 - accuracy: 0.2326 - val_loss: -2238182.0000 - val_accuracy: 0.0697\n",
      "Epoch 8/100\n",
      "155/155 [==============================] - 2s 15ms/step - loss: -1301780.8750 - accuracy: 0.2326 - val_loss: -3247607.0000 - val_accuracy: 0.0697\n",
      "Epoch 9/100\n",
      "155/155 [==============================] - 2s 15ms/step - loss: -1839671.6250 - accuracy: 0.2326 - val_loss: -4494093.0000 - val_accuracy: 0.0697\n",
      "Epoch 10/100\n",
      "155/155 [==============================] - 2s 15ms/step - loss: -2494476.7500 - accuracy: 0.2326 - val_loss: -5984726.0000 - val_accuracy: 0.0697\n",
      "Epoch 11/100\n",
      "155/155 [==============================] - 2s 15ms/step - loss: -3272179.2500 - accuracy: 0.2326 - val_loss: -7740259.0000 - val_accuracy: 0.0697\n",
      "Epoch 12/100\n",
      "155/155 [==============================] - 2s 15ms/step - loss: -4174767.7500 - accuracy: 0.2326 - val_loss: -9766065.0000 - val_accuracy: 0.0697\n",
      "Epoch 13/100\n",
      "155/155 [==============================] - 2s 16ms/step - loss: -5209882.5000 - accuracy: 0.2326 - val_loss: -12067042.0000 - val_accuracy: 0.0697\n",
      "Epoch 14/100\n",
      "155/155 [==============================] - 3s 16ms/step - loss: -6383509.5000 - accuracy: 0.2326 - val_loss: -14669576.0000 - val_accuracy: 0.0697\n",
      "Epoch 15/100\n",
      "155/155 [==============================] - 2s 15ms/step - loss: -7698264.0000 - accuracy: 0.2326 - val_loss: -17565668.0000 - val_accuracy: 0.0697\n",
      "Epoch 16/100\n",
      "155/155 [==============================] - 2s 15ms/step - loss: -9153576.0000 - accuracy: 0.2326 - val_loss: -20759730.0000 - val_accuracy: 0.0697\n",
      "Epoch 17/100\n",
      "155/155 [==============================] - 3s 16ms/step - loss: -10756708.0000 - accuracy: 0.2326 - val_loss: -24258060.0000 - val_accuracy: 0.0697\n",
      "Epoch 18/100\n",
      "155/155 [==============================] - 2s 16ms/step - loss: -12510364.0000 - accuracy: 0.2326 - val_loss: -28083320.0000 - val_accuracy: 0.0697\n",
      "Epoch 19/100\n",
      "155/155 [==============================] - 2s 16ms/step - loss: -14414391.0000 - accuracy: 0.2326 - val_loss: -32230338.0000 - val_accuracy: 0.0697\n",
      "Epoch 20/100\n",
      "155/155 [==============================] - 3s 17ms/step - loss: -16475622.0000 - accuracy: 0.2326 - val_loss: -36688684.0000 - val_accuracy: 0.0697\n",
      "Epoch 21/100\n",
      "155/155 [==============================] - 2s 16ms/step - loss: -18694380.0000 - accuracy: 0.2326 - val_loss: -41489240.0000 - val_accuracy: 0.0697\n",
      "Epoch 22/100\n",
      "155/155 [==============================] - 2s 16ms/step - loss: -21073394.0000 - accuracy: 0.2326 - val_loss: -46633296.0000 - val_accuracy: 0.0697\n",
      "Epoch 23/100\n",
      "155/155 [==============================] - 2s 16ms/step - loss: -23615290.0000 - accuracy: 0.2326 - val_loss: -52127708.0000 - val_accuracy: 0.0697\n",
      "Epoch 24/100\n",
      "155/155 [==============================] - 2s 16ms/step - loss: -26320500.0000 - accuracy: 0.2326 - val_loss: -57937396.0000 - val_accuracy: 0.0697\n",
      "Epoch 25/100\n",
      "155/155 [==============================] - 2s 16ms/step - loss: -29192708.0000 - accuracy: 0.2326 - val_loss: -64124712.0000 - val_accuracy: 0.0697\n",
      "Epoch 26/100\n",
      "155/155 [==============================] - 3s 16ms/step - loss: -32234680.0000 - accuracy: 0.2326 - val_loss: -70656912.0000 - val_accuracy: 0.0697\n",
      "Epoch 27/100\n",
      "155/155 [==============================] - 3s 17ms/step - loss: -35452148.0000 - accuracy: 0.2326 - val_loss: -77549600.0000 - val_accuracy: 0.0697\n",
      "Epoch 28/100\n",
      "155/155 [==============================] - 2s 16ms/step - loss: -38843908.0000 - accuracy: 0.2326 - val_loss: -84830856.0000 - val_accuracy: 0.0697\n",
      "Epoch 29/100\n",
      "155/155 [==============================] - 2s 16ms/step - loss: -42413584.0000 - accuracy: 0.2326 - val_loss: -92471176.0000 - val_accuracy: 0.0697\n",
      "Epoch 30/100\n",
      "155/155 [==============================] - 2s 16ms/step - loss: -46165472.0000 - accuracy: 0.2326 - val_loss: -100506528.0000 - val_accuracy: 0.0697\n",
      "Epoch 31/100\n",
      "155/155 [==============================] - 3s 16ms/step - loss: -50098692.0000 - accuracy: 0.2326 - val_loss: -108936600.0000 - val_accuracy: 0.0697\n",
      "Epoch 32/100\n",
      "155/155 [==============================] - 2s 16ms/step - loss: -54222624.0000 - accuracy: 0.2326 - val_loss: -117735624.0000 - val_accuracy: 0.0697\n",
      "Epoch 33/100\n",
      "155/155 [==============================] - 3s 17ms/step - loss: -58530184.0000 - accuracy: 0.2326 - val_loss: -126960120.0000 - val_accuracy: 0.0697\n",
      "Epoch 34/100\n",
      "155/155 [==============================] - 3s 17ms/step - loss: -63035356.0000 - accuracy: 0.2326 - val_loss: -136541264.0000 - val_accuracy: 0.0697\n",
      "Epoch 35/100\n",
      "155/155 [==============================] - 3s 16ms/step - loss: -67732456.0000 - accuracy: 0.2326 - val_loss: -146591248.0000 - val_accuracy: 0.0697\n",
      "Epoch 36/100\n",
      "155/155 [==============================] - 3s 17ms/step - loss: -72627752.0000 - accuracy: 0.2326 - val_loss: -156995200.0000 - val_accuracy: 0.0697\n",
      "Epoch 37/100\n",
      "155/155 [==============================] - 3s 16ms/step - loss: -77722632.0000 - accuracy: 0.2326 - val_loss: -167857200.0000 - val_accuracy: 0.0697\n",
      "Epoch 38/100\n",
      "155/155 [==============================] - 3s 16ms/step - loss: -83023888.0000 - accuracy: 0.2326 - val_loss: -179173472.0000 - val_accuracy: 0.0697\n",
      "Epoch 39/100\n",
      "155/155 [==============================] - 3s 18ms/step - loss: -88529496.0000 - accuracy: 0.2326 - val_loss: -190841056.0000 - val_accuracy: 0.0697\n",
      "Epoch 40/100\n",
      "155/155 [==============================] - 3s 17ms/step - loss: -94237832.0000 - accuracy: 0.2326 - val_loss: -202983440.0000 - val_accuracy: 0.0697\n",
      "Epoch 41/100\n",
      "155/155 [==============================] - 3s 19ms/step - loss: -100159304.0000 - accuracy: 0.2326 - val_loss: -215561168.0000 - val_accuracy: 0.0697\n",
      "Epoch 42/100\n",
      "155/155 [==============================] - 1114s 7s/step - loss: -106292168.0000 - accuracy: 0.2326 - val_loss: -228642048.0000 - val_accuracy: 0.0697\n",
      "Epoch 43/100\n",
      "155/155 [==============================] - 4s 24ms/step - loss: -112638400.0000 - accuracy: 0.2326 - val_loss: -242128416.0000 - val_accuracy: 0.0697\n",
      "Epoch 44/100\n",
      "155/155 [==============================] - 4s 23ms/step - loss: -119194080.0000 - accuracy: 0.2326 - val_loss: -256075440.0000 - val_accuracy: 0.0697\n",
      "Epoch 45/100\n",
      "155/155 [==============================] - 3s 21ms/step - loss: -125975136.0000 - accuracy: 0.2326 - val_loss: -270431840.0000 - val_accuracy: 0.0697\n",
      "Epoch 46/100\n",
      "155/155 [==============================] - 3s 18ms/step - loss: -132978000.0000 - accuracy: 0.2326 - val_loss: -285306080.0000 - val_accuracy: 0.0697\n",
      "Epoch 47/100\n",
      "155/155 [==============================] - 3s 17ms/step - loss: -140212192.0000 - accuracy: 0.2326 - val_loss: -300656096.0000 - val_accuracy: 0.0697\n",
      "Epoch 48/100\n",
      "155/155 [==============================] - 3s 19ms/step - loss: -147682400.0000 - accuracy: 0.2326 - val_loss: -316497312.0000 - val_accuracy: 0.0697\n",
      "Epoch 49/100\n",
      "155/155 [==============================] - 3s 20ms/step - loss: -155376336.0000 - accuracy: 0.2326 - val_loss: -332785696.0000 - val_accuracy: 0.0697\n",
      "Epoch 50/100\n",
      "155/155 [==============================] - 3s 20ms/step - loss: -163308720.0000 - accuracy: 0.2326 - val_loss: -349624992.0000 - val_accuracy: 0.0697\n",
      "Epoch 51/100\n",
      "155/155 [==============================] - 3s 18ms/step - loss: -171483776.0000 - accuracy: 0.2326 - val_loss: -366927904.0000 - val_accuracy: 0.0697\n",
      "Epoch 52/100\n"
     ]
    },
    {
     "name": "stdout",
     "output_type": "stream",
     "text": [
      "155/155 [==============================] - 2s 16ms/step - loss: -179898128.0000 - accuracy: 0.2326 - val_loss: -384725728.0000 - val_accuracy: 0.0697\n",
      "Epoch 53/100\n",
      "155/155 [==============================] - 2s 16ms/step - loss: -188549856.0000 - accuracy: 0.2326 - val_loss: -403100672.0000 - val_accuracy: 0.0697\n",
      "Epoch 54/100\n",
      "155/155 [==============================] - 2s 16ms/step - loss: -197443488.0000 - accuracy: 0.2326 - val_loss: -422014368.0000 - val_accuracy: 0.0697\n",
      "Epoch 55/100\n",
      "155/155 [==============================] - 3s 17ms/step - loss: -206593920.0000 - accuracy: 0.2326 - val_loss: -441314144.0000 - val_accuracy: 0.0697\n",
      "Epoch 56/100\n",
      "155/155 [==============================] - 2s 16ms/step - loss: -215992864.0000 - accuracy: 0.2326 - val_loss: -461226688.0000 - val_accuracy: 0.0697\n",
      "Epoch 57/100\n",
      "155/155 [==============================] - 2s 16ms/step - loss: -225654560.0000 - accuracy: 0.2326 - val_loss: -481633280.0000 - val_accuracy: 0.0697\n",
      "Epoch 58/100\n",
      "155/155 [==============================] - 2s 16ms/step - loss: -235571376.0000 - accuracy: 0.2326 - val_loss: -502632960.0000 - val_accuracy: 0.0697\n",
      "Epoch 59/100\n",
      "155/155 [==============================] - 3s 18ms/step - loss: -245739520.0000 - accuracy: 0.2326 - val_loss: -524254752.0000 - val_accuracy: 0.0697\n",
      "Epoch 60/100\n",
      "155/155 [==============================] - 3s 17ms/step - loss: -256171888.0000 - accuracy: 0.2326 - val_loss: -546271232.0000 - val_accuracy: 0.0697\n",
      "Epoch 61/100\n",
      "155/155 [==============================] - 3s 16ms/step - loss: -266868464.0000 - accuracy: 0.2326 - val_loss: -568879808.0000 - val_accuracy: 0.0697\n",
      "Epoch 62/100\n",
      "155/155 [==============================] - 3s 17ms/step - loss: -277826304.0000 - accuracy: 0.2326 - val_loss: -592056320.0000 - val_accuracy: 0.0697\n",
      "Epoch 63/100\n",
      "155/155 [==============================] - 2s 16ms/step - loss: -289070656.0000 - accuracy: 0.2326 - val_loss: -615763200.0000 - val_accuracy: 0.0697\n",
      "Epoch 64/100\n",
      "155/155 [==============================] - 2s 16ms/step - loss: -300578176.0000 - accuracy: 0.2326 - val_loss: -640134656.0000 - val_accuracy: 0.0697\n",
      "Epoch 65/100\n",
      "155/155 [==============================] - 3s 16ms/step - loss: -312371488.0000 - accuracy: 0.2326 - val_loss: -665056320.0000 - val_accuracy: 0.0697\n",
      "Epoch 66/100\n",
      "155/155 [==============================] - 3s 17ms/step - loss: -324440704.0000 - accuracy: 0.2326 - val_loss: -690583616.0000 - val_accuracy: 0.0697\n",
      "Epoch 67/100\n",
      "155/155 [==============================] - 3s 17ms/step - loss: -336792288.0000 - accuracy: 0.2326 - val_loss: -716664064.0000 - val_accuracy: 0.0697\n",
      "Epoch 68/100\n",
      "155/155 [==============================] - 3s 17ms/step - loss: -349412768.0000 - accuracy: 0.2326 - val_loss: -743348544.0000 - val_accuracy: 0.0697\n",
      "Epoch 69/100\n",
      "155/155 [==============================] - 3s 16ms/step - loss: -362333728.0000 - accuracy: 0.2326 - val_loss: -770611648.0000 - val_accuracy: 0.0697\n",
      "Epoch 70/100\n",
      "155/155 [==============================] - 3s 16ms/step - loss: -375545792.0000 - accuracy: 0.2326 - val_loss: -798479936.0000 - val_accuracy: 0.0697\n",
      "Epoch 71/100\n",
      "155/155 [==============================] - 2s 16ms/step - loss: -389051168.0000 - accuracy: 0.2326 - val_loss: -827039040.0000 - val_accuracy: 0.0697\n",
      "Epoch 72/100\n",
      "155/155 [==============================] - 2s 16ms/step - loss: -402853184.0000 - accuracy: 0.2326 - val_loss: -856217664.0000 - val_accuracy: 0.0697\n",
      "Epoch 73/100\n",
      "155/155 [==============================] - 3s 17ms/step - loss: -416958176.0000 - accuracy: 0.2326 - val_loss: -885935488.0000 - val_accuracy: 0.0697\n",
      "Epoch 74/100\n",
      "155/155 [==============================] - 3s 18ms/step - loss: -431351424.0000 - accuracy: 0.2326 - val_loss: -916293120.0000 - val_accuracy: 0.0697\n",
      "Epoch 75/100\n",
      "155/155 [==============================] - 3s 18ms/step - loss: -446041248.0000 - accuracy: 0.2326 - val_loss: -947417856.0000 - val_accuracy: 0.0697\n",
      "Epoch 76/100\n",
      "155/155 [==============================] - 3s 17ms/step - loss: -461047840.0000 - accuracy: 0.2326 - val_loss: -979046208.0000 - val_accuracy: 0.0697\n",
      "Epoch 77/100\n",
      "155/155 [==============================] - 3s 17ms/step - loss: -476370976.0000 - accuracy: 0.2326 - val_loss: -1011249728.0000 - val_accuracy: 0.0697\n",
      "Epoch 78/100\n",
      "155/155 [==============================] - 3s 17ms/step - loss: -491994912.0000 - accuracy: 0.2326 - val_loss: -1044339008.0000 - val_accuracy: 0.0697\n",
      "Epoch 79/100\n",
      "155/155 [==============================] - 3s 17ms/step - loss: -507938368.0000 - accuracy: 0.2326 - val_loss: -1077929984.0000 - val_accuracy: 0.0697\n",
      "Epoch 80/100\n",
      "155/155 [==============================] - 3s 18ms/step - loss: -524196992.0000 - accuracy: 0.2326 - val_loss: -1112176896.0000 - val_accuracy: 0.0697\n",
      "Epoch 81/100\n",
      "155/155 [==============================] - 3s 17ms/step - loss: -540763200.0000 - accuracy: 0.2326 - val_loss: -1147093760.0000 - val_accuracy: 0.0697\n",
      "Epoch 82/100\n",
      "155/155 [==============================] - 3s 16ms/step - loss: -557661632.0000 - accuracy: 0.2326 - val_loss: -1182785280.0000 - val_accuracy: 0.0697\n",
      "Epoch 83/100\n",
      "155/155 [==============================] - 3s 17ms/step - loss: -574889984.0000 - accuracy: 0.2326 - val_loss: -1219081856.0000 - val_accuracy: 0.0697\n",
      "Epoch 84/100\n",
      "155/155 [==============================] - 3s 17ms/step - loss: -592433664.0000 - accuracy: 0.2326 - val_loss: -1256078976.0000 - val_accuracy: 0.0697\n",
      "Epoch 85/100\n",
      "155/155 [==============================] - 3s 17ms/step - loss: -610319296.0000 - accuracy: 0.2326 - val_loss: -1293856128.0000 - val_accuracy: 0.0697\n",
      "Epoch 86/100\n",
      "155/155 [==============================] - 3s 18ms/step - loss: -628539072.0000 - accuracy: 0.2326 - val_loss: -1332201984.0000 - val_accuracy: 0.0697\n",
      "Epoch 87/100\n",
      "155/155 [==============================] - 3s 18ms/step - loss: -647077760.0000 - accuracy: 0.2326 - val_loss: -1371284992.0000 - val_accuracy: 0.0697\n",
      "Epoch 88/100\n",
      "155/155 [==============================] - 3s 17ms/step - loss: -665943104.0000 - accuracy: 0.2326 - val_loss: -1411131392.0000 - val_accuracy: 0.0697\n",
      "Epoch 89/100\n",
      "155/155 [==============================] - 3s 17ms/step - loss: -685158720.0000 - accuracy: 0.2326 - val_loss: -1451562496.0000 - val_accuracy: 0.0697\n",
      "Epoch 90/100\n",
      "155/155 [==============================] - 3s 16ms/step - loss: -704724800.0000 - accuracy: 0.2326 - val_loss: -1492830464.0000 - val_accuracy: 0.0697\n",
      "Epoch 91/100\n",
      "155/155 [==============================] - 3s 16ms/step - loss: -724646976.0000 - accuracy: 0.2326 - val_loss: -1534806784.0000 - val_accuracy: 0.0697\n",
      "Epoch 92/100\n",
      "155/155 [==============================] - 3s 18ms/step - loss: -744927040.0000 - accuracy: 0.2326 - val_loss: -1577504640.0000 - val_accuracy: 0.0697\n",
      "Epoch 93/100\n",
      "155/155 [==============================] - 3s 17ms/step - loss: -765548160.0000 - accuracy: 0.2326 - val_loss: -1620851712.0000 - val_accuracy: 0.0697\n",
      "Epoch 94/100\n",
      "155/155 [==============================] - 3s 17ms/step - loss: -786531840.0000 - accuracy: 0.2326 - val_loss: -1665129984.0000 - val_accuracy: 0.0697\n",
      "Epoch 95/100\n",
      "155/155 [==============================] - 3s 17ms/step - loss: -807862080.0000 - accuracy: 0.2326 - val_loss: -1710063488.0000 - val_accuracy: 0.0697\n",
      "Epoch 96/100\n",
      "155/155 [==============================] - 3s 17ms/step - loss: -829563776.0000 - accuracy: 0.2326 - val_loss: -1755677952.0000 - val_accuracy: 0.0697\n",
      "Epoch 97/100\n",
      "155/155 [==============================] - 3s 17ms/step - loss: -851626624.0000 - accuracy: 0.2326 - val_loss: -1802278528.0000 - val_accuracy: 0.0697\n",
      "Epoch 98/100\n",
      "155/155 [==============================] - 3s 17ms/step - loss: -874054144.0000 - accuracy: 0.2326 - val_loss: -1849455104.0000 - val_accuracy: 0.0697\n",
      "Epoch 99/100\n",
      "155/155 [==============================] - 3s 18ms/step - loss: -896843136.0000 - accuracy: 0.2326 - val_loss: -1897395968.0000 - val_accuracy: 0.0697\n",
      "Epoch 100/100\n",
      "155/155 [==============================] - 3s 17ms/step - loss: -920038336.0000 - accuracy: 0.2326 - val_loss: -1946270720.0000 - val_accuracy: 0.0697\n"
     ]
    },
    {
     "data": {
      "text/plain": [
       "<keras.callbacks.History at 0x1bb0af1e410>"
      ]
     },
     "execution_count": 58,
     "metadata": {},
     "output_type": "execute_result"
    }
   ],
   "source": [
    "model.fit(\n",
    "    padded_train_sequences,  # Input data\n",
    "    y_train,  # Labels\n",
    "    epochs=100,  # Adjust the number of epochs as needed\n",
    "    batch_size= 128,  # Adjust the batch size as needed\n",
    "    validation_split=0.2  # You can set a portion of the data for validation\n",
    ")"
   ]
  },
  {
   "cell_type": "markdown",
   "id": "7cca40c6",
   "metadata": {},
   "source": [
    "Here the accuracy is only 23%. so, we are planning to use another pre-trained model to enhance the accuracy"
   ]
  },
  {
   "cell_type": "markdown",
   "id": "087a267e",
   "metadata": {},
   "source": [
    "# PyTorch LSTM RNN w/ Attention"
   ]
  },
  {
   "cell_type": "markdown",
   "id": "9ea03ff3",
   "metadata": {},
   "source": [
    "Here, we are gonna define custom unidirectional and bidirectional using PyTorch to perform the sentiment analysis on tweets"
   ]
  },
  {
   "cell_type": "markdown",
   "id": "7752820a",
   "metadata": {},
   "source": [
    "# LSTM - Data Preprocessing - Tokenization"
   ]
  },
  {
   "cell_type": "markdown",
   "id": "b2dfa337",
   "metadata": {},
   "source": [
    "As part of preprocessing, tokenize the sentences. The sentences will be converted to lists of number with padding to the max number of words in a sentence."
   ]
  },
  {
   "cell_type": "code",
   "execution_count": 59,
   "id": "ca487997",
   "metadata": {},
   "outputs": [],
   "source": [
    "def DP_Tokenize(value, val_length):\n",
    "    ##Create vocabulary of words from value\n",
    "    new_corpus = [word for text in value for word in text.split()]\n",
    "    count_of_words = Counter(new_corpus)\n",
    "    words_sort = count_of_words.most_common()\n",
    "    vocab_of_words = {w:i+1 for i, (w,c) in enumerate(words_sort)}\n",
    "\n",
    "    ##Tokenize the columns text using the vocabulary\n",
    "    tweets_int_array = []\n",
    "    for text in value:\n",
    "        r = [vocab_of_words[word] for word in text.split()]\n",
    "        tweets_int_array.append(r)\n",
    "    ##Add padding to tokens\n",
    "    padd_feature = np.zeros((len(tweets_int_array), val_length), dtype = int)\n",
    "    for i, rev in enumerate(tweets_int_array):\n",
    "        if len(rev) <= val_length:\n",
    "            zeros = list(np.zeros(val_length - len(rev)))\n",
    "            new = zeros + rev\n",
    "        else:\n",
    "            new = rev[: val_length]\n",
    "        padd_feature[i, :] = np.array(new)\n",
    "\n",
    "    return words_sort, padd_feature\n"
   ]
  },
  {
   "cell_type": "code",
   "execution_count": 60,
   "id": "48177558",
   "metadata": {},
   "outputs": [],
   "source": [
    "vocabulary, tokenized_value = DP_Tokenize(df[\"text_clean\"], max_len)"
   ]
  },
  {
   "cell_type": "markdown",
   "id": "532c168c",
   "metadata": {},
   "source": [
    "# Word Embedding by Word2Vec"
   ]
  },
  {
   "cell_type": "markdown",
   "id": "7c3aa0d0",
   "metadata": {},
   "source": [
    "We will be creating a  word embedding matrix using the original text tweets and the pretrained model Word2Vec"
   ]
  },
  {
   "cell_type": "code",
   "execution_count": 61,
   "id": "2898b791",
   "metadata": {},
   "outputs": [],
   "source": [
    "Word2vec_train_data = list(map(lambda x: x.split(), X_train))\n",
    "EMBEDDING_DIMENSION = 200\n",
    "word2vec_model = Word2Vec(Word2vec_train_data, vector_size=EMBEDDING_DIMENSION)\n",
    "VOCABULARY_SIZE = len(vocabulary) + 1 #+1 for the padding"
   ]
  },
  {
   "cell_type": "markdown",
   "id": "921d393e",
   "metadata": {},
   "source": [
    "Now, define embedding matrix"
   ]
  },
  {
   "cell_type": "code",
   "execution_count": 62,
   "id": "b6e141e1",
   "metadata": {},
   "outputs": [
    {
     "name": "stdout",
     "output_type": "stream",
     "text": [
      "Embedding Matrix Shape is: (36865, 200)\n"
     ]
    }
   ],
   "source": [
    "# Define an empty embedding matrix of shape (VOCAB_SIZE, EMBEDDING_DIM)\n",
    "embedding_matrix = np.zeros((VOCABULARY_SIZE, EMBEDDING_DIMENSION))\n",
    "\n",
    "# Fill the embedding matrix with pre-trained values from word2vec\n",
    "for word, token in vocabulary:\n",
    "    # Check if the word is present in the word2vec model's vocabulary\n",
    "    if word in word2vec_model.wv.key_to_index:\n",
    "        # If the word is present, retrieve its embedding vector and add it to the embedding matrix\n",
    "        embedding_vector = word2vec_model.wv[word]\n",
    "        embedding_matrix[token] = embedding_vector\n",
    "\n",
    "# Show the shape of the embedding matrix\n",
    "print(\"Embedding Matrix Shape is:\", embedding_matrix.shape)"
   ]
  },
  {
   "cell_type": "markdown",
   "id": "57163cf0",
   "metadata": {},
   "source": [
    "# Train - Validation - Test Split"
   ]
  },
  {
   "cell_type": "markdown",
   "id": "33c23267",
   "metadata": {},
   "source": [
    "Considering the tokenized sentences"
   ]
  },
  {
   "cell_type": "code",
   "execution_count": 63,
   "id": "8f5d2984",
   "metadata": {},
   "outputs": [],
   "source": [
    "X = tokenized_value\n",
    "y = df['cyberbullying_type'].values"
   ]
  },
  {
   "cell_type": "code",
   "execution_count": 64,
   "id": "6e52ac1c",
   "metadata": {},
   "outputs": [],
   "source": [
    "X_train, X_test, y_train, y_test = train_test_split(X, y, test_size=0.2, stratify=y, random_state=seed_value)"
   ]
  },
  {
   "cell_type": "code",
   "execution_count": 65,
   "id": "87dc49c7",
   "metadata": {},
   "outputs": [],
   "source": [
    "X_train, X_valid, y_train, y_valid = train_test_split(X_train, y_train, test_size=0.2, stratify=y_train, random_state=seed_value)"
   ]
  },
  {
   "cell_type": "markdown",
   "id": "c6d6cf21",
   "metadata": {},
   "source": [
    "Lets see the balance of target class"
   ]
  },
  {
   "cell_type": "code",
   "execution_count": 66,
   "id": "948b511a",
   "metadata": {},
   "outputs": [
    {
     "data": {
      "text/plain": [
       "array([[   0, 4846],\n",
       "       [   1, 4952],\n",
       "       [   2, 4104],\n",
       "       [   3, 4116],\n",
       "       [   4, 3273]], dtype=int64)"
      ]
     },
     "execution_count": 66,
     "metadata": {},
     "output_type": "execute_result"
    }
   ],
   "source": [
    "(unique, counts) = np.unique(y_train, return_counts=True)\n",
    "np.asarray((unique, counts)).T"
   ]
  },
  {
   "cell_type": "markdown",
   "id": "e5451176",
   "metadata": {},
   "source": [
    "we need to apply oversampling"
   ]
  },
  {
   "cell_type": "code",
   "execution_count": 67,
   "id": "b3561e09",
   "metadata": {},
   "outputs": [],
   "source": [
    "ros = RandomOverSampler()\n",
    "X_train_os, y_train_os = ros.fit_resample(np.array(X_train),np.array(y_train));"
   ]
  },
  {
   "cell_type": "code",
   "execution_count": 68,
   "id": "0a7fab1a",
   "metadata": {},
   "outputs": [
    {
     "data": {
      "text/plain": [
       "array([[   0, 4952],\n",
       "       [   1, 4952],\n",
       "       [   2, 4952],\n",
       "       [   3, 4952],\n",
       "       [   4, 4952]], dtype=int64)"
      ]
     },
     "execution_count": 68,
     "metadata": {},
     "output_type": "execute_result"
    }
   ],
   "source": [
    "(unique, counts) = np.unique(y_train_os, return_counts=True)\n",
    "np.asarray((unique, counts)).T"
   ]
  },
  {
   "cell_type": "markdown",
   "id": "0a16bc86",
   "metadata": {},
   "source": [
    "# PyTorch datasets and Dataloaders"
   ]
  },
  {
   "cell_type": "code",
   "execution_count": 69,
   "id": "9b131c26",
   "metadata": {},
   "outputs": [],
   "source": [
    "train_data = TensorDataset(torch.from_numpy(X_train_os), torch.from_numpy(y_train_os))\n",
    "test_data = TensorDataset(torch.from_numpy(X_test), torch.from_numpy(y_test))\n",
    "valid_data = TensorDataset(torch.from_numpy(X_valid), torch.from_numpy(y_valid))"
   ]
  },
  {
   "cell_type": "code",
   "execution_count": 70,
   "id": "e9e9eb89",
   "metadata": {},
   "outputs": [],
   "source": [
    "BATCH_SIZE = 32"
   ]
  },
  {
   "cell_type": "code",
   "execution_count": 71,
   "id": "673eaaf3",
   "metadata": {},
   "outputs": [],
   "source": [
    "train_loader = DataLoader(train_data, shuffle=True, batch_size=BATCH_SIZE, drop_last=True) \n",
    "valid_loader = DataLoader(valid_data, shuffle=False, batch_size=BATCH_SIZE, drop_last=True)\n",
    "test_loader = DataLoader(test_data, shuffle=False, batch_size=BATCH_SIZE, drop_last=True)"
   ]
  },
  {
   "cell_type": "markdown",
   "id": "b43a7d04",
   "metadata": {},
   "source": [
    "# PyTorch LSTM Modeling with Attention layer"
   ]
  },
  {
   "cell_type": "code",
   "execution_count": 72,
   "id": "debe4a02",
   "metadata": {},
   "outputs": [],
   "source": [
    "class Attention(nn.Module):\n",
    "    def __init__(self, hidden_dim, is_bidirectional):\n",
    "        super(Attention, self).__init__()\n",
    "        self.is_bidirectional = is_bidirectional\n",
    "        # The attention linear layer which transforms the input data to the hidden space\n",
    "        self.attn = nn.Linear(hidden_dim * (4 if is_bidirectional else 2), hidden_dim * (2 if is_bidirectional else 1))\n",
    "        # The linear layer that calculates the attention scores\n",
    "        self.v = nn.Linear(hidden_dim * (2 if is_bidirectional else 1), 1, bias=False)\n",
    "\n",
    "    def forward(self, hidden, encoder_outputs):\n",
    "        seq_len = encoder_outputs.size(1)\n",
    "        # Concatenate the last two hidden states in case of a bidirectional LSTM\n",
    "        if self.is_bidirectional:\n",
    "            hidden = torch.cat((hidden[-2], hidden[-1]), dim=-1)\n",
    "        else:\n",
    "            hidden = hidden[-1]\n",
    "        # Repeat the hidden state across the sequence length\n",
    "        hidden_repeated = hidden.unsqueeze(1).repeat(1, seq_len, 1)\n",
    "        # Calculate attention weights\n",
    "        attn_weights = torch.tanh(self.attn(torch.cat((hidden_repeated, encoder_outputs), dim=2)))\n",
    "        # Compute attention scores\n",
    "        attn_weights = self.v(attn_weights).squeeze(2)\n",
    "        # Apply softmax to get valid probabilities\n",
    "        return nn.functional.softmax(attn_weights, dim=1)\n",
    "\n",
    "\n",
    "class LSTM_Sentiment_Classifier(nn.Module):\n",
    "    def __init__(self, vocab_size, embedding_dim, hidden_dim, num_classes, lstm_layers, dropout, is_bidirectional):\n",
    "        super(LSTM_Sentiment_Classifier, self).__init__()\n",
    "        self.hidden_dim = hidden_dim\n",
    "        self.num_layers = lstm_layers\n",
    "        self.is_bidirectional = is_bidirectional\n",
    "\n",
    "        # The Embedding layer that converts input words to embeddings\n",
    "        self.embedding = nn.Embedding(vocab_size, embedding_dim)\n",
    "        # LSTM layer which processes the embeddings\n",
    "        self.lstm = nn.LSTM(embedding_dim, hidden_dim, lstm_layers, batch_first=True, bidirectional=is_bidirectional)\n",
    "        # Attention layer to compute the context vector\n",
    "        self.attention = Attention(hidden_dim, is_bidirectional)\n",
    "        # Fully connected layer which classifies the context vector into classes\n",
    "        self.fc = nn.Linear(hidden_dim * (2 if is_bidirectional else 1), num_classes)\n",
    "        # Apply LogSoftmax to outputs for numerical stability\n",
    "        self.softmax = nn.LogSoftmax(dim=1)\n",
    "        # Dropout layer for regularisation\n",
    "        self.dropout = nn.Dropout(dropout)\n",
    "\n",
    "    def forward(self, x, hidden):\n",
    "        # Transform words to embeddings\n",
    "        embedded = self.embedding(x)\n",
    "        # Pass embeddings to LSTM\n",
    "        out, hidden = self.lstm(embedded, hidden)\n",
    "        # Calculate attention weights\n",
    "        attn_weights = self.attention(hidden[0], out)\n",
    "        # Calculate context vector by taking the weighted sum of LSTM outputs\n",
    "        context = attn_weights.unsqueeze(1).bmm(out).squeeze(1)\n",
    "        # Classify the context vector\n",
    "        out = self.softmax(self.fc(context))\n",
    "        return out, hidden\n",
    "\n",
    "    def init_hidden(self, batch_size):\n",
    "        # Factor determines the size of hidden states depending on bidirectionality\n",
    "        factor = 2 if self.is_bidirectional else 1\n",
    "        # Initial hidden and cell states are zero\n",
    "        h0 = torch.zeros(self.num_layers * factor, batch_size, self.hidden_dim).to(DEVICE)\n",
    "        c0 = torch.zeros(self.num_layers * factor, batch_size, self.hidden_dim).to(DEVICE)\n",
    "        return h0, c0"
   ]
  },
  {
   "cell_type": "code",
   "execution_count": 73,
   "id": "9786e355",
   "metadata": {},
   "outputs": [
    {
     "name": "stdout",
     "output_type": "stream",
     "text": [
      "LSTM_Sentiment_Classifier(\n",
      "  (embedding): Embedding(36865, 200)\n",
      "  (lstm): LSTM(200, 100, batch_first=True)\n",
      "  (attention): Attention(\n",
      "    (attn): Linear(in_features=200, out_features=100, bias=True)\n",
      "    (v): Linear(in_features=100, out_features=1, bias=False)\n",
      "  )\n",
      "  (fc): Linear(in_features=100, out_features=5, bias=True)\n",
      "  (softmax): LogSoftmax(dim=1)\n",
      "  (dropout): Dropout(p=0.5, inplace=False)\n",
      ")\n"
     ]
    }
   ],
   "source": [
    "NUM_CLASSES = 5 #We are dealing with a multiclass classification of 5 classes\n",
    "HIDDEN_DIM = 100 #number of neurons of the internal state (internal neural network in the LSTM)\n",
    "LSTM_LAYERS = 1 #Number of stacked LSTM layers\n",
    "\n",
    "IS_BIDIRECTIONAL = False # Set this to False for unidirectional LSTM, and True for bidirectional LSTM\n",
    "\n",
    "LR = 4e-4 #Learning rate\n",
    "DROPOUT = 0.5 #LSTM Dropout\n",
    "EPOCHS = 10 #Number of training epoch\n",
    "\n",
    "DEVICE = 'cuda' if torch.cuda.is_available() else 'cpu'\n",
    "\n",
    "model = LSTM_Sentiment_Classifier(VOCABULARY_SIZE, EMBEDDING_DIMENSION, HIDDEN_DIM, NUM_CLASSES, LSTM_LAYERS, DROPOUT, IS_BIDIRECTIONAL)\n",
    "\n",
    "model = model.to(DEVICE)\n",
    "\n",
    "# Initialize the embedding layer with the previously defined embedding matrix\n",
    "model.embedding.weight.data.copy_(torch.from_numpy(embedding_matrix))\n",
    "# Allow the embedding matrix to be fine-tuned to better adapt to our dataset and get higher accuracy\n",
    "model.embedding.weight.requires_grad = True\n",
    "\n",
    "# Set up the criterion (loss function)\n",
    "criterion = nn.NLLLoss()\n",
    "optimizer = torch.optim.AdamW(model.parameters(), lr=LR, weight_decay = 5e-6)\n",
    "\n",
    "print(model)"
   ]
  },
  {
   "cell_type": "markdown",
   "id": "59c04558",
   "metadata": {},
   "source": [
    "# LSTM Training Loop"
   ]
  },
  {
   "cell_type": "markdown",
   "id": "330d4594",
   "metadata": {},
   "source": [
    "A custom training loop is defined where only best models in terms of validation accuracy are saved and a early stopping functionality is also included."
   ]
  },
  {
   "cell_type": "code",
   "execution_count": 74,
   "id": "a0977187",
   "metadata": {},
   "outputs": [
    {
     "name": "stdout",
     "output_type": "stream",
     "text": [
      "Epoch 1:Validation accuracy increased (0.000000 --> 92.469880).  Saving model ...\n",
      "\tTrain_loss : 0.6509 Val_loss : 0.2319\n",
      "\tTrain_acc : 74.147% Val_acc : 92.470%\n",
      "Epoch 2:Validation accuracy increased (92.469880 --> 93.109940).  Saving model ...\n",
      "\tTrain_loss : 0.1597 Val_loss : 0.2025\n",
      "\tTrain_acc : 94.935% Val_acc : 93.110%\n",
      "Epoch 3:Validation accuracy did not increase\n",
      "\tTrain_loss : 0.0876 Val_loss : 0.2425\n",
      "\tTrain_acc : 97.320% Val_acc : 92.508%\n",
      "Epoch 4:Validation accuracy did not increase\n",
      "\tTrain_loss : 0.0514 Val_loss : 0.2590\n",
      "\tTrain_acc : 98.541% Val_acc : 92.263%\n",
      "Epoch 5:Validation accuracy did not increase\n",
      "\tTrain_loss : 0.0312 Val_loss : 0.3130\n",
      "\tTrain_acc : 99.167% Val_acc : 91.623%\n",
      "Epoch 6:Validation accuracy did not increase\n",
      "\tTrain_loss : 0.0221 Val_loss : 0.3169\n",
      "\tTrain_acc : 99.410% Val_acc : 91.849%\n",
      "Epoch 7:Validation accuracy did not increase\n",
      "Early stopped at epoch : 7\n"
     ]
    }
   ],
   "source": [
    "total_step = len(train_loader)\n",
    "total_step_val = len(valid_loader)\n",
    "\n",
    "early_stopping_patience = 4\n",
    "early_stopping_counter = 0\n",
    "\n",
    "valid_acc_max = 0 # Initialize best accuracy top 0\n",
    "\n",
    "for e in range(EPOCHS):\n",
    "\n",
    "    #lists to host the train and validation losses of every batch for each epoch\n",
    "    train_loss, valid_loss  = [], []\n",
    "    #lists to host the train and validation accuracy of every batch for each epoch\n",
    "    train_acc, valid_acc  = [], []\n",
    "\n",
    "    #lists to host the train and validation predictions of every batch for each epoch\n",
    "    y_train_list, y_val_list = [], []\n",
    "\n",
    "    #initalize number of total and correctly classified texts during training and validation\n",
    "    correct, correct_val = 0, 0\n",
    "    total, total_val = 0, 0\n",
    "    running_loss, running_loss_val = 0, 0\n",
    "\n",
    "\n",
    "    ####TRAINING LOOP####\n",
    "\n",
    "    model.train()\n",
    "\n",
    "    for inputs, labels in train_loader:\n",
    "        inputs, labels = inputs.to(DEVICE), labels.to(DEVICE) #load features and targets in device\n",
    "\n",
    "        h = model.init_hidden(labels.size(0))\n",
    "\n",
    "        model.zero_grad() #reset gradients \n",
    "\n",
    "        output, h = model(inputs,h) #get output and hidden states from LSTM network\n",
    "        \n",
    "        loss = criterion(output, labels)\n",
    "        loss.backward()\n",
    "        \n",
    "        running_loss += loss.item()\n",
    "        \n",
    "        optimizer.step()\n",
    "\n",
    "        y_pred_train = torch.argmax(output, dim=1) #get tensor of predicted values on the training set\n",
    "        y_train_list.extend(y_pred_train.squeeze().tolist()) #transform tensor to list and the values to the list\n",
    "        \n",
    "        correct += torch.sum(y_pred_train==labels).item() #count correctly classified texts per batch\n",
    "        total += labels.size(0) #count total texts per batch\n",
    "\n",
    "    train_loss.append(running_loss / total_step)\n",
    "    train_acc.append(100 * correct / total)\n",
    "\n",
    "    ####VALIDATION LOOP####\n",
    "    \n",
    "    with torch.no_grad():\n",
    "        \n",
    "        model.eval()\n",
    "        \n",
    "        for inputs, labels in valid_loader:\n",
    "            inputs, labels = inputs.to(DEVICE), labels.to(DEVICE)\n",
    "\n",
    "            val_h = model.init_hidden(labels.size(0))\n",
    "\n",
    "            output, val_h = model(inputs, val_h)\n",
    "\n",
    "            val_loss = criterion(output, labels)\n",
    "            running_loss_val += val_loss.item()\n",
    "\n",
    "            y_pred_val = torch.argmax(output, dim=1)\n",
    "            y_val_list.extend(y_pred_val.squeeze().tolist())\n",
    "\n",
    "            correct_val += torch.sum(y_pred_val==labels).item()\n",
    "            total_val += labels.size(0)\n",
    "\n",
    "        valid_loss.append(running_loss_val / total_step_val)\n",
    "        valid_acc.append(100 * correct_val / total_val)\n",
    "\n",
    "    #Save model if validation accuracy increases\n",
    "    if np.mean(valid_acc) >= valid_acc_max:\n",
    "        torch.save(model.state_dict(), './state_dict.pt')\n",
    "        print(f'Epoch {e+1}:Validation accuracy increased ({valid_acc_max:.6f} --> {np.mean(valid_acc):.6f}).  Saving model ...')\n",
    "        valid_acc_max = np.mean(valid_acc)\n",
    "        early_stopping_counter=0 #reset counter if validation accuracy increases\n",
    "    else:\n",
    "        print(f'Epoch {e+1}:Validation accuracy did not increase')\n",
    "        early_stopping_counter+=1 #increase counter if validation accuracy does not increase\n",
    "        \n",
    "    if early_stopping_counter > early_stopping_patience:\n",
    "        print('Early stopped at epoch :', e+1)\n",
    "        break\n",
    "    \n",
    "    print(f'\\tTrain_loss : {np.mean(train_loss):.4f} Val_loss : {np.mean(valid_loss):.4f}')\n",
    "    print(f'\\tTrain_acc : {np.mean(train_acc):.3f}% Val_acc : {np.mean(valid_acc):.3f}%')"
   ]
  },
  {
   "cell_type": "code",
   "execution_count": 75,
   "id": "217a0146",
   "metadata": {},
   "outputs": [
    {
     "data": {
      "text/plain": [
       "<All keys matched successfully>"
      ]
     },
     "execution_count": 75,
     "metadata": {},
     "output_type": "execute_result"
    }
   ],
   "source": [
    "# Loading the best model\n",
    "model.load_state_dict(torch.load('./state_dict.pt'))"
   ]
  },
  {
   "cell_type": "markdown",
   "id": "362cfc06",
   "metadata": {},
   "source": [
    "# LSTM Testing"
   ]
  },
  {
   "cell_type": "code",
   "execution_count": 76,
   "id": "5c982176",
   "metadata": {},
   "outputs": [],
   "source": [
    "def evaluate_model(model, test_loader):\n",
    "    model.eval()\n",
    "    y_pred_list = []\n",
    "    y_test_list = []\n",
    "    \n",
    "    with torch.no_grad():\n",
    "        for inputs, labels in test_loader:\n",
    "            inputs, labels = inputs.to(DEVICE), labels.to(DEVICE)\n",
    "            test_h = model.init_hidden(labels.size(0))\n",
    "\n",
    "            output, val_h = model(inputs, test_h)\n",
    "            y_pred_test = torch.argmax(output, dim=1)\n",
    "            y_pred_list.extend(y_pred_test.squeeze().tolist())\n",
    "            y_test_list.extend(labels.squeeze().tolist())\n",
    "    \n",
    "    return y_pred_list, y_test_list\n",
    "\n",
    "y_pred_list, y_test_list = evaluate_model(model, test_loader)"
   ]
  },
  {
   "cell_type": "code",
   "execution_count": 77,
   "id": "b6909061",
   "metadata": {},
   "outputs": [
    {
     "name": "stdout",
     "output_type": "stream",
     "text": [
      "Classification Report for Bi-LSTM :\n",
      "                    precision    recall  f1-score   support\n",
      "\n",
      "not_cyberbullying       0.95      0.96      0.95      1509\n",
      "           gender       0.97      0.98      0.97      1540\n",
      "         religion       0.99      0.98      0.98      1275\n",
      "              age       0.93      0.89      0.91      1283\n",
      "        ethnicity       0.80      0.83      0.82      1017\n",
      "\n",
      "         accuracy                           0.93      6624\n",
      "        macro avg       0.93      0.93      0.93      6624\n",
      "     weighted avg       0.93      0.93      0.93      6624\n",
      "\n"
     ]
    }
   ],
   "source": [
    "print('Classification Report for Bi-LSTM :\\n', classification_report(y_test_list, y_pred_list, target_names=sentiments))"
   ]
  },
  {
   "cell_type": "markdown",
   "id": "f98481f2",
   "metadata": {},
   "source": [
    "The performance of the algorithm is high with an accuracy of 93%. The f1-score for most of the classes are over 95%"
   ]
  },
  {
   "cell_type": "code",
   "execution_count": null,
   "id": "16af1033",
   "metadata": {},
   "outputs": [],
   "source": []
  }
 ],
 "metadata": {
  "kernelspec": {
   "display_name": "Python 3 (ipykernel)",
   "language": "python",
   "name": "python3"
  },
  "language_info": {
   "codemirror_mode": {
    "name": "ipython",
    "version": 3
   },
   "file_extension": ".py",
   "mimetype": "text/x-python",
   "name": "python",
   "nbconvert_exporter": "python",
   "pygments_lexer": "ipython3",
   "version": "3.11.5"
  }
 },
 "nbformat": 4,
 "nbformat_minor": 5
}
